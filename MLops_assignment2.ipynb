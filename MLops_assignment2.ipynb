{
 "cells": [
  {
   "cell_type": "code",
   "execution_count": 1,
   "id": "22dd8dba",
   "metadata": {},
   "outputs": [
    {
     "name": "stdout",
     "output_type": "stream",
     "text": [
      "--2024-08-26 20:58:23--  https://archive.ics.uci.edu/static/public/275/bike+sharing+dataset.zip\n",
      "Resolving archive.ics.uci.edu (archive.ics.uci.edu)... 128.195.10.252\n",
      "Connecting to archive.ics.uci.edu (archive.ics.uci.edu)|128.195.10.252|:443... connected.\n",
      "HTTP request sent, awaiting response... 200 OK\n",
      "Length: unspecified\n",
      "Saving to: ‘bike+sharing+dataset.zip’\n",
      "\n",
      "bike+sharing+datase     [              <=>   ] 273.43K  28.1KB/s    in 9.7s    \n",
      "\n",
      "2024-08-26 20:58:37 (28.1 KB/s) - ‘bike+sharing+dataset.zip’ saved [279992]\n",
      "\n",
      "Archive:  bike+sharing+dataset.zip\n",
      "  inflating: Readme.txt              \n",
      "  inflating: day.csv                 \n",
      "  inflating: hour.csv                \n"
     ]
    }
   ],
   "source": [
    "#getting the required dataset\n",
    "\n",
    "!wget https://archive.ics.uci.edu/static/public/275/bike+sharing+dataset.zip\n",
    "!unzip bike+sharing+dataset.zip"
   ]
  },
  {
   "cell_type": "code",
   "execution_count": 182,
   "id": "984223a3",
   "metadata": {},
   "outputs": [
    {
     "name": "stdout",
     "output_type": "stream",
     "text": [
      "\u001b[31mERROR: Could not find a version that satisfies the requirement sklearn.preprocessing.TargetEncoder (from versions: none)\u001b[0m\n",
      "\u001b[31mERROR: No matching distribution found for sklearn.preprocessing.TargetEncoder\u001b[0m\n",
      "Note: you may need to restart the kernel to use updated packages.\n"
     ]
    }
   ],
   "source": [
    "pip install sklearn.preprocessing.TargetEncoder"
   ]
  },
  {
   "cell_type": "code",
   "execution_count": 1,
   "id": "910bc1d1",
   "metadata": {},
   "outputs": [
    {
     "data": {
      "text/html": [
       "<div>\n",
       "<style scoped>\n",
       "    .dataframe tbody tr th:only-of-type {\n",
       "        vertical-align: middle;\n",
       "    }\n",
       "\n",
       "    .dataframe tbody tr th {\n",
       "        vertical-align: top;\n",
       "    }\n",
       "\n",
       "    .dataframe thead th {\n",
       "        text-align: right;\n",
       "    }\n",
       "</style>\n",
       "<table border=\"1\" class=\"dataframe\">\n",
       "  <thead>\n",
       "    <tr style=\"text-align: right;\">\n",
       "      <th></th>\n",
       "      <th>instant</th>\n",
       "      <th>dteday</th>\n",
       "      <th>season</th>\n",
       "      <th>yr</th>\n",
       "      <th>mnth</th>\n",
       "      <th>hr</th>\n",
       "      <th>holiday</th>\n",
       "      <th>weekday</th>\n",
       "      <th>workingday</th>\n",
       "      <th>weathersit</th>\n",
       "      <th>temp</th>\n",
       "      <th>atemp</th>\n",
       "      <th>hum</th>\n",
       "      <th>windspeed</th>\n",
       "      <th>casual</th>\n",
       "      <th>registered</th>\n",
       "      <th>cnt</th>\n",
       "    </tr>\n",
       "  </thead>\n",
       "  <tbody>\n",
       "    <tr>\n",
       "      <th>0</th>\n",
       "      <td>1</td>\n",
       "      <td>2011-01-01</td>\n",
       "      <td>1</td>\n",
       "      <td>0</td>\n",
       "      <td>1</td>\n",
       "      <td>0</td>\n",
       "      <td>0</td>\n",
       "      <td>6</td>\n",
       "      <td>0</td>\n",
       "      <td>1</td>\n",
       "      <td>0.24</td>\n",
       "      <td>0.2879</td>\n",
       "      <td>0.81</td>\n",
       "      <td>0.0</td>\n",
       "      <td>3</td>\n",
       "      <td>13</td>\n",
       "      <td>16</td>\n",
       "    </tr>\n",
       "    <tr>\n",
       "      <th>1</th>\n",
       "      <td>2</td>\n",
       "      <td>2011-01-01</td>\n",
       "      <td>1</td>\n",
       "      <td>0</td>\n",
       "      <td>1</td>\n",
       "      <td>1</td>\n",
       "      <td>0</td>\n",
       "      <td>6</td>\n",
       "      <td>0</td>\n",
       "      <td>1</td>\n",
       "      <td>0.22</td>\n",
       "      <td>0.2727</td>\n",
       "      <td>0.80</td>\n",
       "      <td>0.0</td>\n",
       "      <td>8</td>\n",
       "      <td>32</td>\n",
       "      <td>40</td>\n",
       "    </tr>\n",
       "    <tr>\n",
       "      <th>2</th>\n",
       "      <td>3</td>\n",
       "      <td>2011-01-01</td>\n",
       "      <td>1</td>\n",
       "      <td>0</td>\n",
       "      <td>1</td>\n",
       "      <td>2</td>\n",
       "      <td>0</td>\n",
       "      <td>6</td>\n",
       "      <td>0</td>\n",
       "      <td>1</td>\n",
       "      <td>0.22</td>\n",
       "      <td>0.2727</td>\n",
       "      <td>0.80</td>\n",
       "      <td>0.0</td>\n",
       "      <td>5</td>\n",
       "      <td>27</td>\n",
       "      <td>32</td>\n",
       "    </tr>\n",
       "    <tr>\n",
       "      <th>3</th>\n",
       "      <td>4</td>\n",
       "      <td>2011-01-01</td>\n",
       "      <td>1</td>\n",
       "      <td>0</td>\n",
       "      <td>1</td>\n",
       "      <td>3</td>\n",
       "      <td>0</td>\n",
       "      <td>6</td>\n",
       "      <td>0</td>\n",
       "      <td>1</td>\n",
       "      <td>0.24</td>\n",
       "      <td>0.2879</td>\n",
       "      <td>0.75</td>\n",
       "      <td>0.0</td>\n",
       "      <td>3</td>\n",
       "      <td>10</td>\n",
       "      <td>13</td>\n",
       "    </tr>\n",
       "    <tr>\n",
       "      <th>4</th>\n",
       "      <td>5</td>\n",
       "      <td>2011-01-01</td>\n",
       "      <td>1</td>\n",
       "      <td>0</td>\n",
       "      <td>1</td>\n",
       "      <td>4</td>\n",
       "      <td>0</td>\n",
       "      <td>6</td>\n",
       "      <td>0</td>\n",
       "      <td>1</td>\n",
       "      <td>0.24</td>\n",
       "      <td>0.2879</td>\n",
       "      <td>0.75</td>\n",
       "      <td>0.0</td>\n",
       "      <td>0</td>\n",
       "      <td>1</td>\n",
       "      <td>1</td>\n",
       "    </tr>\n",
       "  </tbody>\n",
       "</table>\n",
       "</div>"
      ],
      "text/plain": [
       "   instant      dteday  season  yr  mnth  hr  holiday  weekday  workingday  \\\n",
       "0        1  2011-01-01       1   0     1   0        0        6           0   \n",
       "1        2  2011-01-01       1   0     1   1        0        6           0   \n",
       "2        3  2011-01-01       1   0     1   2        0        6           0   \n",
       "3        4  2011-01-01       1   0     1   3        0        6           0   \n",
       "4        5  2011-01-01       1   0     1   4        0        6           0   \n",
       "\n",
       "   weathersit  temp   atemp   hum  windspeed  casual  registered  cnt  \n",
       "0           1  0.24  0.2879  0.81        0.0       3          13   16  \n",
       "1           1  0.22  0.2727  0.80        0.0       8          32   40  \n",
       "2           1  0.22  0.2727  0.80        0.0       5          27   32  \n",
       "3           1  0.24  0.2879  0.75        0.0       3          10   13  \n",
       "4           1  0.24  0.2879  0.75        0.0       0           1    1  "
      ]
     },
     "execution_count": 1,
     "metadata": {},
     "output_type": "execute_result"
    }
   ],
   "source": [
    "#importing the pandas lib and loading the dataset\n",
    "\n",
    "import pandas as pd\n",
    "import numpy as np\n",
    "import matplotlib.pyplot as plt\n",
    "\n",
    "df_original = pd.read_csv('hour.csv')\n",
    "df = df_original.copy()\n",
    "df.head()"
   ]
  },
  {
   "cell_type": "code",
   "execution_count": null,
   "id": "fa92e019",
   "metadata": {},
   "outputs": [],
   "source": []
  },
  {
   "cell_type": "markdown",
   "id": "170cc7b7",
   "metadata": {},
   "source": [
    "### Data cleaning and validation"
   ]
  },
  {
   "cell_type": "code",
   "execution_count": 2,
   "id": "1853701f",
   "metadata": {},
   "outputs": [
    {
     "data": {
      "text/plain": [
       "17379"
      ]
     },
     "execution_count": 2,
     "metadata": {},
     "output_type": "execute_result"
    }
   ],
   "source": [
    "df.shape[0]"
   ]
  },
  {
   "cell_type": "code",
   "execution_count": 3,
   "id": "baded2e5",
   "metadata": {
    "scrolled": true
   },
   "outputs": [
    {
     "data": {
      "text/plain": [
       "6    2512\n",
       "0    2502\n",
       "Name: weekday, dtype: int64"
      ]
     },
     "execution_count": 3,
     "metadata": {},
     "output_type": "execute_result"
    }
   ],
   "source": [
    "#weekend which are not holidays are marked 0 in holiday and also 0 in workingday(1 if not workingday and not holiday)\n",
    "df[df.holiday == df.workingday].weekday.value_counts() #days that are not occasions and not workingday"
   ]
  },
  {
   "cell_type": "code",
   "execution_count": 4,
   "id": "e578655e",
   "metadata": {},
   "outputs": [
    {
     "data": {
      "text/plain": [
       "0.028770355026181024"
      ]
     },
     "execution_count": 4,
     "metadata": {},
     "output_type": "execute_result"
    }
   ],
   "source": [
    "df.holiday.value_counts()[1]/df.shape[0]\n",
    "#since the holydays are less number we will remove it"
   ]
  },
  {
   "cell_type": "code",
   "execution_count": 5,
   "id": "64e30bdf",
   "metadata": {},
   "outputs": [],
   "source": [
    "# Convert the date column from object to datetime format\n",
    "df['dteday'] = pd.to_datetime(df['dteday'])\n",
    "# Extract the day from the date column\n",
    "df['day'] = df['dteday'].dt.day\n",
    "\n",
    "\n",
    "#droping non required columns\n",
    "df.drop(['instant','dteday','casual','registered','holiday'],axis = 1,inplace = True)\n",
    "\n",
    "#converting categorical variables into type category\n",
    "df['season'] = df.season.astype('category')\n",
    "df['weekday'] = df.weekday.astype('category')\n",
    "df['weathersit'] = df.weathersit.astype('category')\n",
    "df['mnth'] = df.mnth.astype('category')\n",
    "df['yr'] = df.yr.astype('category')\n",
    "df['day'] = df.day.astype('category')\n",
    "df['hr'] = df.hr.astype('category')"
   ]
  },
  {
   "cell_type": "code",
   "execution_count": 6,
   "id": "5bd8b00d",
   "metadata": {
    "scrolled": true
   },
   "outputs": [
    {
     "data": {
      "text/plain": [
       "0"
      ]
     },
     "execution_count": 6,
     "metadata": {},
     "output_type": "execute_result"
    }
   ],
   "source": [
    "df.isna().sum().sum()"
   ]
  },
  {
   "cell_type": "markdown",
   "id": "a52adc1e",
   "metadata": {},
   "source": [
    "Therefore no null values"
   ]
  },
  {
   "cell_type": "code",
   "execution_count": 7,
   "id": "0aaeb83d",
   "metadata": {},
   "outputs": [],
   "source": [
    "numerical_features = df.drop(['cnt'],axis = 1).select_dtypes(include='number').columns\n",
    "categorical_features = df.select_dtypes(include='category').columns"
   ]
  },
  {
   "cell_type": "code",
   "execution_count": 8,
   "id": "81467116",
   "metadata": {},
   "outputs": [
    {
     "data": {
      "text/plain": [
       "Index(['season', 'yr', 'mnth', 'hr', 'weekday', 'weathersit', 'day'], dtype='object')"
      ]
     },
     "execution_count": 8,
     "metadata": {},
     "output_type": "execute_result"
    }
   ],
   "source": [
    "categorical_features"
   ]
  },
  {
   "cell_type": "code",
   "execution_count": 9,
   "id": "2fc1fe1a",
   "metadata": {},
   "outputs": [
    {
     "data": {
      "text/plain": [
       "Index(['workingday', 'temp', 'atemp', 'hum', 'windspeed'], dtype='object')"
      ]
     },
     "execution_count": 9,
     "metadata": {},
     "output_type": "execute_result"
    }
   ],
   "source": [
    "numerical_features"
   ]
  },
  {
   "cell_type": "code",
   "execution_count": 10,
   "id": "b97e3ef2",
   "metadata": {},
   "outputs": [
    {
     "data": {
      "text/html": [
       "<div>\n",
       "<style scoped>\n",
       "    .dataframe tbody tr th:only-of-type {\n",
       "        vertical-align: middle;\n",
       "    }\n",
       "\n",
       "    .dataframe tbody tr th {\n",
       "        vertical-align: top;\n",
       "    }\n",
       "\n",
       "    .dataframe thead th {\n",
       "        text-align: right;\n",
       "    }\n",
       "</style>\n",
       "<table border=\"1\" class=\"dataframe\">\n",
       "  <thead>\n",
       "    <tr style=\"text-align: right;\">\n",
       "      <th></th>\n",
       "      <th>workingday</th>\n",
       "      <th>temp</th>\n",
       "      <th>atemp</th>\n",
       "      <th>hum</th>\n",
       "      <th>windspeed</th>\n",
       "      <th>cnt</th>\n",
       "    </tr>\n",
       "  </thead>\n",
       "  <tbody>\n",
       "    <tr>\n",
       "      <th>workingday</th>\n",
       "      <td>1.000000</td>\n",
       "      <td>0.055390</td>\n",
       "      <td>0.054667</td>\n",
       "      <td>0.015688</td>\n",
       "      <td>-0.011830</td>\n",
       "      <td>0.030284</td>\n",
       "    </tr>\n",
       "    <tr>\n",
       "      <th>temp</th>\n",
       "      <td>0.055390</td>\n",
       "      <td>1.000000</td>\n",
       "      <td>0.987672</td>\n",
       "      <td>-0.069881</td>\n",
       "      <td>-0.023125</td>\n",
       "      <td>0.404772</td>\n",
       "    </tr>\n",
       "    <tr>\n",
       "      <th>atemp</th>\n",
       "      <td>0.054667</td>\n",
       "      <td>0.987672</td>\n",
       "      <td>1.000000</td>\n",
       "      <td>-0.051918</td>\n",
       "      <td>-0.062336</td>\n",
       "      <td>0.400929</td>\n",
       "    </tr>\n",
       "    <tr>\n",
       "      <th>hum</th>\n",
       "      <td>0.015688</td>\n",
       "      <td>-0.069881</td>\n",
       "      <td>-0.051918</td>\n",
       "      <td>1.000000</td>\n",
       "      <td>-0.290105</td>\n",
       "      <td>-0.322911</td>\n",
       "    </tr>\n",
       "    <tr>\n",
       "      <th>windspeed</th>\n",
       "      <td>-0.011830</td>\n",
       "      <td>-0.023125</td>\n",
       "      <td>-0.062336</td>\n",
       "      <td>-0.290105</td>\n",
       "      <td>1.000000</td>\n",
       "      <td>0.093234</td>\n",
       "    </tr>\n",
       "    <tr>\n",
       "      <th>cnt</th>\n",
       "      <td>0.030284</td>\n",
       "      <td>0.404772</td>\n",
       "      <td>0.400929</td>\n",
       "      <td>-0.322911</td>\n",
       "      <td>0.093234</td>\n",
       "      <td>1.000000</td>\n",
       "    </tr>\n",
       "  </tbody>\n",
       "</table>\n",
       "</div>"
      ],
      "text/plain": [
       "            workingday      temp     atemp       hum  windspeed       cnt\n",
       "workingday    1.000000  0.055390  0.054667  0.015688  -0.011830  0.030284\n",
       "temp          0.055390  1.000000  0.987672 -0.069881  -0.023125  0.404772\n",
       "atemp         0.054667  0.987672  1.000000 -0.051918  -0.062336  0.400929\n",
       "hum           0.015688 -0.069881 -0.051918  1.000000  -0.290105 -0.322911\n",
       "windspeed    -0.011830 -0.023125 -0.062336 -0.290105   1.000000  0.093234\n",
       "cnt           0.030284  0.404772  0.400929 -0.322911   0.093234  1.000000"
      ]
     },
     "execution_count": 10,
     "metadata": {},
     "output_type": "execute_result"
    }
   ],
   "source": [
    "df.corr()"
   ]
  },
  {
   "cell_type": "code",
   "execution_count": 11,
   "id": "21eb92b2",
   "metadata": {
    "scrolled": true
   },
   "outputs": [
    {
     "data": {
      "text/plain": [
       "season        category\n",
       "yr            category\n",
       "mnth          category\n",
       "hr            category\n",
       "weekday       category\n",
       "workingday       int64\n",
       "weathersit    category\n",
       "temp           float64\n",
       "atemp          float64\n",
       "hum            float64\n",
       "windspeed      float64\n",
       "cnt              int64\n",
       "day           category\n",
       "dtype: object"
      ]
     },
     "execution_count": 11,
     "metadata": {},
     "output_type": "execute_result"
    }
   ],
   "source": [
    "df.dtypes"
   ]
  },
  {
   "cell_type": "code",
   "execution_count": 12,
   "id": "0fb335ed",
   "metadata": {},
   "outputs": [],
   "source": [
    "X = df.drop(['cnt'],axis = 1)\n",
    "y = df['cnt']\n",
    "\n",
    "#data split\n",
    "\n",
    "from sklearn.model_selection import train_test_split\n",
    "X_train, X_test, y_train, y_test = train_test_split(X, y, test_size=0.2,\n",
    "random_state=42)"
   ]
  },
  {
   "cell_type": "code",
   "execution_count": 13,
   "id": "122e9cec",
   "metadata": {
    "scrolled": true
   },
   "outputs": [
    {
     "data": {
      "image/png": "[encoded data removed]",
      "text/plain": [
       "<Figure size 432x288 with 1 Axes>"
      ]
     },
     "metadata": {
      "needs_background": "light"
     },
     "output_type": "display_data"
    },
    {
     "data": {
      "image/png": "[encoded data removed]",
      "text/plain": [
       "<Figure size 432x288 with 1 Axes>"
      ]
     },
     "metadata": {
      "needs_background": "light"
     },
     "output_type": "display_data"
    },
    {
     "data": {
      "image/png": "[encoded data removed]",
      "text/plain": [
       "<Figure size 432x288 with 1 Axes>"
      ]
     },
     "metadata": {
      "needs_background": "light"
     },
     "output_type": "display_data"
    },
    {
     "data": {
      "image/png": "[encoded data removed]",
      "text/plain": [
       "<Figure size 432x288 with 1 Axes>"
      ]
     },
     "metadata": {
      "needs_background": "light"
     },
     "output_type": "display_data"
    },
    {
     "data": {
      "image/png": "[encoded data removed]",
      "text/plain": [
       "<Figure size 432x288 with 1 Axes>"
      ]
     },
     "metadata": {
      "needs_background": "light"
     },
     "output_type": "display_data"
    }
   ],
   "source": [
    "for var in numerical_features:\n",
    "    plt.boxplot(X_train[var])\n",
    "    plt.xlabel(var)\n",
    "    plt.show()"
   ]
  },
  {
   "cell_type": "markdown",
   "id": "38f32358",
   "metadata": {},
   "source": [
    "we see that windspeed has outliers"
   ]
  },
  {
   "cell_type": "code",
   "execution_count": 14,
   "id": "cb980f84",
   "metadata": {},
   "outputs": [],
   "source": [
    "#treating outlier using interquatrile range\n",
    "\n",
    "def fill_outliers_with_percentile(df, column, percentile):\n",
    "    # Calculate Q1 (25th percentile) and Q3 (75th percentile)\n",
    "    Q1 = df[column].quantile(0.25)\n",
    "    Q3 = df[column].quantile(0.75)\n",
    "    # Calculate IQR\n",
    "    IQR = Q3 - Q1\n",
    "    # Define outlier bounds\n",
    "    lower_bound = Q1 - 1.5 * IQR\n",
    "    upper_bound = Q3 + 1.5 * IQR\n",
    "    # Calculate the specified percentile value\n",
    "    percentile_value = df[column].quantile(percentile)\n",
    "    # Replace outliers with the specified percentile value\n",
    "    df[column] = df[column].apply(lambda x: percentile_value if x < lower_bound or x > upper_bound else x)\n",
    "    \n",
    "fill_outliers_with_percentile(X_train, 'windspeed',0.90)"
   ]
  },
  {
   "cell_type": "code",
   "execution_count": 15,
   "id": "f0ea2915",
   "metadata": {},
   "outputs": [
    {
     "data": {
      "image/png": "[encoded data removed]",
      "text/plain": [
       "<Figure size 432x288 with 1 Axes>"
      ]
     },
     "metadata": {
      "needs_background": "light"
     },
     "output_type": "display_data"
    }
   ],
   "source": [
    "plt.boxplot(X_train['windspeed'])\n",
    "plt.xlabel('windspeed')\n",
    "plt.show()"
   ]
  },
  {
   "cell_type": "markdown",
   "id": "e4c4ae7e",
   "metadata": {},
   "source": [
    "### Feature Engineering pipeline"
   ]
  },
  {
   "cell_type": "code",
   "execution_count": null,
   "id": "db7fc1f9",
   "metadata": {},
   "outputs": [],
   "source": []
  },
  {
   "cell_type": "code",
   "execution_count": null,
   "id": "5af96e7b",
   "metadata": {},
   "outputs": [],
   "source": []
  },
  {
   "cell_type": "code",
   "execution_count": 16,
   "id": "bfddd0fd",
   "metadata": {},
   "outputs": [
    {
     "data": {
      "text/plain": [
       "Index(['workingday', 'temp', 'atemp', 'hum', 'windspeed'], dtype='object')"
      ]
     },
     "execution_count": 16,
     "metadata": {},
     "output_type": "execute_result"
    }
   ],
   "source": [
    "numerical_features"
   ]
  },
  {
   "cell_type": "code",
   "execution_count": 17,
   "id": "d4d825ac",
   "metadata": {},
   "outputs": [],
   "source": [
    "X_train_dummy = X_train.copy()"
   ]
  },
  {
   "cell_type": "code",
   "execution_count": 18,
   "id": "d3102f4d",
   "metadata": {},
   "outputs": [
    {
     "data": {
      "text/plain": [
       "Index(['workingday', 'temp', 'atemp', 'hum', 'windspeed'], dtype='object')"
      ]
     },
     "execution_count": 18,
     "metadata": {},
     "output_type": "execute_result"
    }
   ],
   "source": [
    "numerical_features"
   ]
  },
  {
   "cell_type": "markdown",
   "id": "8e12235c",
   "metadata": {},
   "source": [
    "## Showing the importance of interacting features using selectkbest"
   ]
  },
  {
   "cell_type": "code",
   "execution_count": 19,
   "id": "e8efa590",
   "metadata": {},
   "outputs": [
    {
     "name": "stdout",
     "output_type": "stream",
     "text": [
      "Warning: No categorical columns found. Calling 'transform' will only return input data.\n"
     ]
    }
   ],
   "source": [
    "from sklearn.impute import SimpleImputer\n",
    "from sklearn.preprocessing import OneHotEncoder, StandardScaler, PolynomialFeatures\n",
    "from category_encoders import TargetEncoder\n",
    "from sklearn.feature_selection import SelectKBest, f_regression\n",
    "from sklearn.pipeline import Pipeline\n",
    "\n",
    "# Numerical features\n",
    "numerical_pipeline = Pipeline([\n",
    "('imputer', SimpleImputer(strategy='mean')), # Impute missing values with mean\n",
    "('scaler', StandardScaler()),  # Standardizes the data\n",
    "('poly', PolynomialFeatures(degree=2, include_bias=False)),  # Generates polynomial features\n",
    "('select', SelectKBest(score_func=f_regression, k=8))  # Selects the top k features\n",
    "])\n",
    "# Transforming above\n",
    "X_train_dummy[numerical_features] = numerical_pipeline.fit(X_train_dummy[numerical_features],y_train)\n",
    "# Categorical features\n",
    "\n",
    "categorical_pipeline_oh = Pipeline([\n",
    "('imputer', SimpleImputer(strategy='most_frequent')),\n",
    "('onehot', OneHotEncoder( drop='first'))\n",
    "])\n",
    "\n",
    "categorical_pipeline_te = Pipeline([\n",
    "    ('imputer', SimpleImputer(strategy='most_frequent')),  # Impute missing values with the most frequent value\n",
    "    ('target_encoder', TargetEncoder())  # Encode categorical features using target encoding\n",
    "])\n",
    "\n",
    "# Transforming above\n",
    "X_encoded_oh = categorical_pipeline_oh.fit_transform(X_train_dummy[categorical_features])\n",
    "X_encoded_te = categorical_pipeline_te.fit_transform(X_train_dummy[categorical_features],y_train)\n",
    "# Converting it to a dataframe"
   ]
  },
  {
   "cell_type": "code",
   "execution_count": 20,
   "id": "b49196fd",
   "metadata": {},
   "outputs": [],
   "source": [
    "imp_feat = list(numerical_pipeline.named_steps['poly'].get_feature_names_out(numerical_features))"
   ]
  },
  {
   "cell_type": "code",
   "execution_count": 21,
   "id": "4eeacaed",
   "metadata": {
    "scrolled": true
   },
   "outputs": [
    {
     "data": {
      "text/plain": [
       "['workingday',\n",
       " 'temp',\n",
       " 'atemp',\n",
       " 'hum',\n",
       " 'windspeed',\n",
       " 'workingday^2',\n",
       " 'workingday temp',\n",
       " 'workingday atemp']"
      ]
     },
     "execution_count": 21,
     "metadata": {},
     "output_type": "execute_result"
    }
   ],
   "source": [
    "for i,b in enumerate(numerical_pipeline.named_steps['select'].get_support()):\n",
    "    if not b:\n",
    "        imp_feat.pop()\n",
    "imp_feat"
   ]
  },
  {
   "cell_type": "markdown",
   "id": "a632b335",
   "metadata": {},
   "source": [
    "### We see that workingday^2, workingday\\*temp ,workingday\\*atemp are the important interactind features\n",
    "\n"
   ]
  },
  {
   "cell_type": "code",
   "execution_count": null,
   "id": "0b6e78e6",
   "metadata": {},
   "outputs": [],
   "source": []
  },
  {
   "cell_type": "markdown",
   "id": "ead6587e",
   "metadata": {},
   "source": [
    "NOW I WILL BUILD TWO COMPLETE PIPELINE USING AND USE GRID SEARCH  "
   ]
  },
  {
   "cell_type": "markdown",
   "id": "a6d5360f",
   "metadata": {},
   "source": [
    "## Pipeline till the model"
   ]
  },
  {
   "cell_type": "code",
   "execution_count": 44,
   "id": "3a289666",
   "metadata": {},
   "outputs": [],
   "source": [
    "\n",
    "#combining numerical features with categorical features\n",
    "from sklearn.model_selection import GridSearchCV\n",
    "from sklearn.compose import ColumnTransformer\n",
    "from sklearn.linear_model import LinearRegression # Define the column transformer\n",
    "from sklearn.impute import SimpleImputer\n",
    "from sklearn.preprocessing import OneHotEncoder, StandardScaler, PolynomialFeatures\n",
    "from category_encoders import TargetEncoder\n",
    "from sklearn.feature_selection import SelectKBest, f_regression\n",
    "from sklearn.pipeline import Pipeline\n",
    "\n",
    "\n",
    "\n",
    "\n",
    "def pipe(encoder_tag = 'target_encoder', encoder = TargetEncoder()):\n",
    "    \n",
    "\n",
    "    # Numerical features\n",
    "    numerical_pipeline = Pipeline([\n",
    "        ('imputer', SimpleImputer(strategy='mean')), # Impute missing values with mean\n",
    "        ('scaler', StandardScaler()),  # Standardizes the data\n",
    "        ])\n",
    "\n",
    "    categorical_pipeline = Pipeline([\n",
    "        ('imputer', SimpleImputer(strategy='most_frequent')),\n",
    "        (encoder_tag, encoder)\n",
    "        ])\n",
    "\n",
    "    preprocessor = ColumnTransformer(\n",
    "        transformers=[\n",
    "            ('num', numerical_pipeline, X_train.select_dtypes(include='number').columns),  # Apply numerical_pipeline to numerical features\n",
    "            ('cat', categorical_pipeline, X_train.select_dtypes(include='category').columns)  # Apply categorical_pipeline to categorical features\n",
    "        ]\n",
    "    )\n",
    "\n",
    "    # Create the final pipeline\n",
    "    final_pipeline = Pipeline([\n",
    "        ('preprocess', preprocessor),  # Combine the preprocessing steps\n",
    "        ('poly', PolynomialFeatures(degree=2, include_bias=False)),  # Generates polynomial features\n",
    "        ('select', SelectKBest(score_func=f_regression, k=15)),  # Selects the top k features\n",
    "        ('model', LinearRegression())  # Model step\n",
    "    ])\n",
    "\n",
    "\n",
    "    \n",
    "    return final_pipeline"
   ]
  },
  {
   "cell_type": "code",
   "execution_count": 45,
   "id": "09ed1691",
   "metadata": {},
   "outputs": [],
   "source": [
    "final_pipeline_te = pipe()\n",
    "final_pipeline_oh = pipe(encoder_tag = 'onehot',encoder = OneHotEncoder( drop='first'))"
   ]
  },
  {
   "cell_type": "code",
   "execution_count": 78,
   "id": "e4340061",
   "metadata": {
    "scrolled": true
   },
   "outputs": [
    {
     "data": {
      "text/html": [
       "<style>#sk-5d27568d-48f9-4f88-ab37-f78e6a91abde {color: black;background-color: white;}#sk-5d27568d-48f9-4f88-ab37-f78e6a91abde pre{padding: 0;}#sk-5d27568d-48f9-4f88-ab37-f78e6a91abde div.sk-toggleable {background-color: white;}#sk-5d27568d-48f9-4f88-ab37-f78e6a91abde label.sk-toggleable__label {cursor: pointer;display: block;width: 100%;margin-bottom: 0;padding: 0.3em;box-sizing: border-box;text-align: center;}#sk-5d27568d-48f9-4f88-ab37-f78e6a91abde label.sk-toggleable__label-arrow:before {content: \"▸\";float: left;margin-right: 0.25em;color: #696969;}#sk-5d27568d-48f9-4f88-ab37-f78e6a91abde label.sk-toggleable__label-arrow:hover:before {color: black;}#sk-5d27568d-48f9-4f88-ab37-f78e6a91abde div.sk-estimator:hover label.sk-toggleable__label-arrow:before {color: black;}#sk-5d27568d-48f9-4f88-ab37-f78e6a91abde div.sk-toggleable__content {max-height: 0;max-width: 0;overflow: hidden;text-align: left;background-color: #f0f8ff;}#sk-5d27568d-48f9-4f88-ab37-f78e6a91abde div.sk-toggleable__content pre {margin: 0.2em;color: black;border-radius: 0.25em;background-color: #f0f8ff;}#sk-5d27568d-48f9-4f88-ab37-f78e6a91abde input.sk-toggleable__control:checked~div.sk-toggleable__content {max-height: 200px;max-width: 100%;overflow: auto;}#sk-5d27568d-48f9-4f88-ab37-f78e6a91abde input.sk-toggleable__control:checked~label.sk-toggleable__label-arrow:before {content: \"▾\";}#sk-5d27568d-48f9-4f88-ab37-f78e6a91abde div.sk-estimator input.sk-toggleable__control:checked~label.sk-toggleable__label {background-color: #d4ebff;}#sk-5d27568d-48f9-4f88-ab37-f78e6a91abde div.sk-label input.sk-toggleable__control:checked~label.sk-toggleable__label {background-color: #d4ebff;}#sk-5d27568d-48f9-4f88-ab37-f78e6a91abde input.sk-hidden--visually {border: 0;clip: rect(1px 1px 1px 1px);clip: rect(1px, 1px, 1px, 1px);height: 1px;margin: -1px;overflow: hidden;padding: 0;position: absolute;width: 1px;}#sk-5d27568d-48f9-4f88-ab37-f78e6a91abde div.sk-estimator {font-family: monospace;background-color: #f0f8ff;border: 1px dotted black;border-radius: 0.25em;box-sizing: border-box;margin-bottom: 0.5em;}#sk-5d27568d-48f9-4f88-ab37-f78e6a91abde div.sk-estimator:hover {background-color: #d4ebff;}#sk-5d27568d-48f9-4f88-ab37-f78e6a91abde div.sk-parallel-item::after {content: \"\";width: 100%;border-bottom: 1px solid gray;flex-grow: 1;}#sk-5d27568d-48f9-4f88-ab37-f78e6a91abde div.sk-label:hover label.sk-toggleable__label {background-color: #d4ebff;}#sk-5d27568d-48f9-4f88-ab37-f78e6a91abde div.sk-serial::before {content: \"\";position: absolute;border-left: 1px solid gray;box-sizing: border-box;top: 2em;bottom: 0;left: 50%;}#sk-5d27568d-48f9-4f88-ab37-f78e6a91abde div.sk-serial {display: flex;flex-direction: column;align-items: center;background-color: white;padding-right: 0.2em;padding-left: 0.2em;}#sk-5d27568d-48f9-4f88-ab37-f78e6a91abde div.sk-item {z-index: 1;}#sk-5d27568d-48f9-4f88-ab37-f78e6a91abde div.sk-parallel {display: flex;align-items: stretch;justify-content: center;background-color: white;}#sk-5d27568d-48f9-4f88-ab37-f78e6a91abde div.sk-parallel::before {content: \"\";position: absolute;border-left: 1px solid gray;box-sizing: border-box;top: 2em;bottom: 0;left: 50%;}#sk-5d27568d-48f9-4f88-ab37-f78e6a91abde div.sk-parallel-item {display: flex;flex-direction: column;position: relative;background-color: white;}#sk-5d27568d-48f9-4f88-ab37-f78e6a91abde div.sk-parallel-item:first-child::after {align-self: flex-end;width: 50%;}#sk-5d27568d-48f9-4f88-ab37-f78e6a91abde div.sk-parallel-item:last-child::after {align-self: flex-start;width: 50%;}#sk-5d27568d-48f9-4f88-ab37-f78e6a91abde div.sk-parallel-item:only-child::after {width: 0;}#sk-5d27568d-48f9-4f88-ab37-f78e6a91abde div.sk-dashed-wrapped {border: 1px dashed gray;margin: 0 0.4em 0.5em 0.4em;box-sizing: border-box;padding-bottom: 0.4em;background-color: white;position: relative;}#sk-5d27568d-48f9-4f88-ab37-f78e6a91abde div.sk-label label {font-family: monospace;font-weight: bold;background-color: white;display: inline-block;line-height: 1.2em;}#sk-5d27568d-48f9-4f88-ab37-f78e6a91abde div.sk-label-container {position: relative;z-index: 2;text-align: center;}#sk-5d27568d-48f9-4f88-ab37-f78e6a91abde div.sk-container {/* jupyter's `normalize.less` sets `[hidden] { display: none; }` but bootstrap.min.css set `[hidden] { display: none !important; }` so we also need the `!important` here to be able to override the default hidden behavior on the sphinx rendered scikit-learn.org. See: https://github.com/scikit-learn/scikit-learn/issues/21755 */display: inline-block !important;position: relative;}#sk-5d27568d-48f9-4f88-ab37-f78e6a91abde div.sk-text-repr-fallback {display: none;}</style><div id=\"sk-5d27568d-48f9-4f88-ab37-f78e6a91abde\" class=\"sk-top-container\"><div class=\"sk-text-repr-fallback\"><pre>Pipeline(steps=[(&#x27;preprocess&#x27;,\n",
       "                 ColumnTransformer(transformers=[(&#x27;num&#x27;,\n",
       "                                                  Pipeline(steps=[(&#x27;imputer&#x27;,\n",
       "                                                                   SimpleImputer()),\n",
       "                                                                  (&#x27;scaler&#x27;,\n",
       "                                                                   StandardScaler())]),\n",
       "                                                  Index([&#x27;workingday&#x27;, &#x27;temp&#x27;, &#x27;atemp&#x27;, &#x27;hum&#x27;, &#x27;windspeed&#x27;], dtype=&#x27;object&#x27;)),\n",
       "                                                 (&#x27;cat&#x27;,\n",
       "                                                  Pipeline(steps=[(&#x27;imputer&#x27;,\n",
       "                                                                   SimpleImputer(strategy=&#x27;most_frequent&#x27;)),\n",
       "                                                                  (&#x27;target_encoder&#x27;,\n",
       "                                                                   TargetEncoder())]),\n",
       "                                                  Index([&#x27;season&#x27;, &#x27;yr&#x27;, &#x27;mnth&#x27;, &#x27;hr&#x27;, &#x27;weekday&#x27;, &#x27;weathersit&#x27;, &#x27;day&#x27;], dtype=&#x27;object&#x27;))])),\n",
       "                (&#x27;poly&#x27;, PolynomialFeatures(include_bias=False)),\n",
       "                (&#x27;select&#x27;,\n",
       "                 SelectKBest(k=15,\n",
       "                             score_func=&lt;function f_regression at 0x7f81e9955ee0&gt;)),\n",
       "                (&#x27;model&#x27;, LinearRegression())])</pre><b>Please rerun this cell to show the HTML repr or trust the notebook.</b></div><div class=\"sk-container\" hidden><div class=\"sk-item sk-dashed-wrapped\"><div class=\"sk-label-container\"><div class=\"sk-label sk-toggleable\"><input class=\"sk-toggleable__control sk-hidden--visually\" id=\"334b8aea-9791-47a0-b7c2-51c96d00a2e9\" type=\"checkbox\" ><label for=\"334b8aea-9791-47a0-b7c2-51c96d00a2e9\" class=\"sk-toggleable__label sk-toggleable__label-arrow\">Pipeline</label><div class=\"sk-toggleable__content\"><pre>Pipeline(steps=[(&#x27;preprocess&#x27;,\n",
       "                 ColumnTransformer(transformers=[(&#x27;num&#x27;,\n",
       "                                                  Pipeline(steps=[(&#x27;imputer&#x27;,\n",
       "                                                                   SimpleImputer()),\n",
       "                                                                  (&#x27;scaler&#x27;,\n",
       "                                                                   StandardScaler())]),\n",
       "                                                  Index([&#x27;workingday&#x27;, &#x27;temp&#x27;, &#x27;atemp&#x27;, &#x27;hum&#x27;, &#x27;windspeed&#x27;], dtype=&#x27;object&#x27;)),\n",
       "                                                 (&#x27;cat&#x27;,\n",
       "                                                  Pipeline(steps=[(&#x27;imputer&#x27;,\n",
       "                                                                   SimpleImputer(strategy=&#x27;most_frequent&#x27;)),\n",
       "                                                                  (&#x27;target_encoder&#x27;,\n",
       "                                                                   TargetEncoder())]),\n",
       "                                                  Index([&#x27;season&#x27;, &#x27;yr&#x27;, &#x27;mnth&#x27;, &#x27;hr&#x27;, &#x27;weekday&#x27;, &#x27;weathersit&#x27;, &#x27;day&#x27;], dtype=&#x27;object&#x27;))])),\n",
       "                (&#x27;poly&#x27;, PolynomialFeatures(include_bias=False)),\n",
       "                (&#x27;select&#x27;,\n",
       "                 SelectKBest(k=15,\n",
       "                             score_func=&lt;function f_regression at 0x7f81e9955ee0&gt;)),\n",
       "                (&#x27;model&#x27;, LinearRegression())])</pre></div></div></div><div class=\"sk-serial\"><div class=\"sk-item sk-dashed-wrapped\"><div class=\"sk-label-container\"><div class=\"sk-label sk-toggleable\"><input class=\"sk-toggleable__control sk-hidden--visually\" id=\"ea4d091f-d368-4697-ae22-58bcc9a4f3ab\" type=\"checkbox\" ><label for=\"ea4d091f-d368-4697-ae22-58bcc9a4f3ab\" class=\"sk-toggleable__label sk-toggleable__label-arrow\">preprocess: ColumnTransformer</label><div class=\"sk-toggleable__content\"><pre>ColumnTransformer(transformers=[(&#x27;num&#x27;,\n",
       "                                 Pipeline(steps=[(&#x27;imputer&#x27;, SimpleImputer()),\n",
       "                                                 (&#x27;scaler&#x27;, StandardScaler())]),\n",
       "                                 Index([&#x27;workingday&#x27;, &#x27;temp&#x27;, &#x27;atemp&#x27;, &#x27;hum&#x27;, &#x27;windspeed&#x27;], dtype=&#x27;object&#x27;)),\n",
       "                                (&#x27;cat&#x27;,\n",
       "                                 Pipeline(steps=[(&#x27;imputer&#x27;,\n",
       "                                                  SimpleImputer(strategy=&#x27;most_frequent&#x27;)),\n",
       "                                                 (&#x27;target_encoder&#x27;,\n",
       "                                                  TargetEncoder())]),\n",
       "                                 Index([&#x27;season&#x27;, &#x27;yr&#x27;, &#x27;mnth&#x27;, &#x27;hr&#x27;, &#x27;weekday&#x27;, &#x27;weathersit&#x27;, &#x27;day&#x27;], dtype=&#x27;object&#x27;))])</pre></div></div></div><div class=\"sk-parallel\"><div class=\"sk-parallel-item\"><div class=\"sk-item\"><div class=\"sk-label-container\"><div class=\"sk-label sk-toggleable\"><input class=\"sk-toggleable__control sk-hidden--visually\" id=\"0d8acd76-edf0-4791-8759-f87f8c44be6a\" type=\"checkbox\" ><label for=\"0d8acd76-edf0-4791-8759-f87f8c44be6a\" class=\"sk-toggleable__label sk-toggleable__label-arrow\">num</label><div class=\"sk-toggleable__content\"><pre>Index([&#x27;workingday&#x27;, &#x27;temp&#x27;, &#x27;atemp&#x27;, &#x27;hum&#x27;, &#x27;windspeed&#x27;], dtype=&#x27;object&#x27;)</pre></div></div></div><div class=\"sk-serial\"><div class=\"sk-item\"><div class=\"sk-serial\"><div class=\"sk-item\"><div class=\"sk-estimator sk-toggleable\"><input class=\"sk-toggleable__control sk-hidden--visually\" id=\"1a7cae87-b918-432a-b001-25fffaf25c9a\" type=\"checkbox\" ><label for=\"1a7cae87-b918-432a-b001-25fffaf25c9a\" class=\"sk-toggleable__label sk-toggleable__label-arrow\">SimpleImputer</label><div class=\"sk-toggleable__content\"><pre>SimpleImputer()</pre></div></div></div><div class=\"sk-item\"><div class=\"sk-estimator sk-toggleable\"><input class=\"sk-toggleable__control sk-hidden--visually\" id=\"991d6d95-aae8-4a73-bfc3-429fa3343a52\" type=\"checkbox\" ><label for=\"991d6d95-aae8-4a73-bfc3-429fa3343a52\" class=\"sk-toggleable__label sk-toggleable__label-arrow\">StandardScaler</label><div class=\"sk-toggleable__content\"><pre>StandardScaler()</pre></div></div></div></div></div></div></div></div><div class=\"sk-parallel-item\"><div class=\"sk-item\"><div class=\"sk-label-container\"><div class=\"sk-label sk-toggleable\"><input class=\"sk-toggleable__control sk-hidden--visually\" id=\"44f1c2fc-642a-45d9-9ca9-c620d46c3467\" type=\"checkbox\" ><label for=\"44f1c2fc-642a-45d9-9ca9-c620d46c3467\" class=\"sk-toggleable__label sk-toggleable__label-arrow\">cat</label><div class=\"sk-toggleable__content\"><pre>Index([&#x27;season&#x27;, &#x27;yr&#x27;, &#x27;mnth&#x27;, &#x27;hr&#x27;, &#x27;weekday&#x27;, &#x27;weathersit&#x27;, &#x27;day&#x27;], dtype=&#x27;object&#x27;)</pre></div></div></div><div class=\"sk-serial\"><div class=\"sk-item\"><div class=\"sk-serial\"><div class=\"sk-item\"><div class=\"sk-estimator sk-toggleable\"><input class=\"sk-toggleable__control sk-hidden--visually\" id=\"87687ea5-cfe6-435b-b971-5276b3e06739\" type=\"checkbox\" ><label for=\"87687ea5-cfe6-435b-b971-5276b3e06739\" class=\"sk-toggleable__label sk-toggleable__label-arrow\">SimpleImputer</label><div class=\"sk-toggleable__content\"><pre>SimpleImputer(strategy=&#x27;most_frequent&#x27;)</pre></div></div></div><div class=\"sk-item\"><div class=\"sk-estimator sk-toggleable\"><input class=\"sk-toggleable__control sk-hidden--visually\" id=\"ed28e587-03d2-4ed1-8f85-760f3956b36f\" type=\"checkbox\" ><label for=\"ed28e587-03d2-4ed1-8f85-760f3956b36f\" class=\"sk-toggleable__label sk-toggleable__label-arrow\">TargetEncoder</label><div class=\"sk-toggleable__content\"><pre>TargetEncoder()</pre></div></div></div></div></div></div></div></div></div></div><div class=\"sk-item\"><div class=\"sk-estimator sk-toggleable\"><input class=\"sk-toggleable__control sk-hidden--visually\" id=\"3cf25758-9e2a-4dc7-87a5-a38384db70a1\" type=\"checkbox\" ><label for=\"3cf25758-9e2a-4dc7-87a5-a38384db70a1\" class=\"sk-toggleable__label sk-toggleable__label-arrow\">PolynomialFeatures</label><div class=\"sk-toggleable__content\"><pre>PolynomialFeatures(include_bias=False)</pre></div></div></div><div class=\"sk-item\"><div class=\"sk-estimator sk-toggleable\"><input class=\"sk-toggleable__control sk-hidden--visually\" id=\"19153dc0-58f8-470b-a728-e72eae362d31\" type=\"checkbox\" ><label for=\"19153dc0-58f8-470b-a728-e72eae362d31\" class=\"sk-toggleable__label sk-toggleable__label-arrow\">SelectKBest</label><div class=\"sk-toggleable__content\"><pre>SelectKBest(k=15, score_func=&lt;function f_regression at 0x7f81e9955ee0&gt;)</pre></div></div></div><div class=\"sk-item\"><div class=\"sk-estimator sk-toggleable\"><input class=\"sk-toggleable__control sk-hidden--visually\" id=\"874ad745-28ba-4b5b-a89e-00d09de10ca3\" type=\"checkbox\" ><label for=\"874ad745-28ba-4b5b-a89e-00d09de10ca3\" class=\"sk-toggleable__label sk-toggleable__label-arrow\">LinearRegression</label><div class=\"sk-toggleable__content\"><pre>LinearRegression()</pre></div></div></div></div></div></div></div>"
      ],
      "text/plain": [
       "Pipeline(steps=[('preprocess',\n",
       "                 ColumnTransformer(transformers=[('num',\n",
       "                                                  Pipeline(steps=[('imputer',\n",
       "                                                                   SimpleImputer()),\n",
       "                                                                  ('scaler',\n",
       "                                                                   StandardScaler())]),\n",
       "                                                  Index(['workingday', 'temp', 'atemp', 'hum', 'windspeed'], dtype='object')),\n",
       "                                                 ('cat',\n",
       "                                                  Pipeline(steps=[('imputer',\n",
       "                                                                   SimpleImputer(strategy='most_frequent')),\n",
       "                                                                  ('target_encoder',\n",
       "                                                                   TargetEncoder())]),\n",
       "                                                  Index(['season', 'yr', 'mnth', 'hr', 'weekday', 'weathersit', 'day'], dtype='object'))])),\n",
       "                ('poly', PolynomialFeatures(include_bias=False)),\n",
       "                ('select',\n",
       "                 SelectKBest(k=15,\n",
       "                             score_func=<function f_regression at 0x7f81e9955ee0>)),\n",
       "                ('model', LinearRegression())])"
      ]
     },
     "execution_count": 78,
     "metadata": {},
     "output_type": "execute_result"
    }
   ],
   "source": [
    "from sklearn import set_config\n",
    "set_config(display= 'diagram')\n",
    "final_pipeline_te"
   ]
  },
  {
   "cell_type": "code",
   "execution_count": 79,
   "id": "3e444c1e",
   "metadata": {
    "scrolled": true
   },
   "outputs": [
    {
     "data": {
      "text/html": [
       "<style>#sk-8690b15e-6f5c-43ff-a862-9cc6dfeb3629 {color: black;background-color: white;}#sk-8690b15e-6f5c-43ff-a862-9cc6dfeb3629 pre{padding: 0;}#sk-8690b15e-6f5c-43ff-a862-9cc6dfeb3629 div.sk-toggleable {background-color: white;}#sk-8690b15e-6f5c-43ff-a862-9cc6dfeb3629 label.sk-toggleable__label {cursor: pointer;display: block;width: 100%;margin-bottom: 0;padding: 0.3em;box-sizing: border-box;text-align: center;}#sk-8690b15e-6f5c-43ff-a862-9cc6dfeb3629 label.sk-toggleable__label-arrow:before {content: \"▸\";float: left;margin-right: 0.25em;color: #696969;}#sk-8690b15e-6f5c-43ff-a862-9cc6dfeb3629 label.sk-toggleable__label-arrow:hover:before {color: black;}#sk-8690b15e-6f5c-43ff-a862-9cc6dfeb3629 div.sk-estimator:hover label.sk-toggleable__label-arrow:before {color: black;}#sk-8690b15e-6f5c-43ff-a862-9cc6dfeb3629 div.sk-toggleable__content {max-height: 0;max-width: 0;overflow: hidden;text-align: left;background-color: #f0f8ff;}#sk-8690b15e-6f5c-43ff-a862-9cc6dfeb3629 div.sk-toggleable__content pre {margin: 0.2em;color: black;border-radius: 0.25em;background-color: #f0f8ff;}#sk-8690b15e-6f5c-43ff-a862-9cc6dfeb3629 input.sk-toggleable__control:checked~div.sk-toggleable__content {max-height: 200px;max-width: 100%;overflow: auto;}#sk-8690b15e-6f5c-43ff-a862-9cc6dfeb3629 input.sk-toggleable__control:checked~label.sk-toggleable__label-arrow:before {content: \"▾\";}#sk-8690b15e-6f5c-43ff-a862-9cc6dfeb3629 div.sk-estimator input.sk-toggleable__control:checked~label.sk-toggleable__label {background-color: #d4ebff;}#sk-8690b15e-6f5c-43ff-a862-9cc6dfeb3629 div.sk-label input.sk-toggleable__control:checked~label.sk-toggleable__label {background-color: #d4ebff;}#sk-8690b15e-6f5c-43ff-a862-9cc6dfeb3629 input.sk-hidden--visually {border: 0;clip: rect(1px 1px 1px 1px);clip: rect(1px, 1px, 1px, 1px);height: 1px;margin: -1px;overflow: hidden;padding: 0;position: absolute;width: 1px;}#sk-8690b15e-6f5c-43ff-a862-9cc6dfeb3629 div.sk-estimator {font-family: monospace;background-color: #f0f8ff;border: 1px dotted black;border-radius: 0.25em;box-sizing: border-box;margin-bottom: 0.5em;}#sk-8690b15e-6f5c-43ff-a862-9cc6dfeb3629 div.sk-estimator:hover {background-color: #d4ebff;}#sk-8690b15e-6f5c-43ff-a862-9cc6dfeb3629 div.sk-parallel-item::after {content: \"\";width: 100%;border-bottom: 1px solid gray;flex-grow: 1;}#sk-8690b15e-6f5c-43ff-a862-9cc6dfeb3629 div.sk-label:hover label.sk-toggleable__label {background-color: #d4ebff;}#sk-8690b15e-6f5c-43ff-a862-9cc6dfeb3629 div.sk-serial::before {content: \"\";position: absolute;border-left: 1px solid gray;box-sizing: border-box;top: 2em;bottom: 0;left: 50%;}#sk-8690b15e-6f5c-43ff-a862-9cc6dfeb3629 div.sk-serial {display: flex;flex-direction: column;align-items: center;background-color: white;padding-right: 0.2em;padding-left: 0.2em;}#sk-8690b15e-6f5c-43ff-a862-9cc6dfeb3629 div.sk-item {z-index: 1;}#sk-8690b15e-6f5c-43ff-a862-9cc6dfeb3629 div.sk-parallel {display: flex;align-items: stretch;justify-content: center;background-color: white;}#sk-8690b15e-6f5c-43ff-a862-9cc6dfeb3629 div.sk-parallel::before {content: \"\";position: absolute;border-left: 1px solid gray;box-sizing: border-box;top: 2em;bottom: 0;left: 50%;}#sk-8690b15e-6f5c-43ff-a862-9cc6dfeb3629 div.sk-parallel-item {display: flex;flex-direction: column;position: relative;background-color: white;}#sk-8690b15e-6f5c-43ff-a862-9cc6dfeb3629 div.sk-parallel-item:first-child::after {align-self: flex-end;width: 50%;}#sk-8690b15e-6f5c-43ff-a862-9cc6dfeb3629 div.sk-parallel-item:last-child::after {align-self: flex-start;width: 50%;}#sk-8690b15e-6f5c-43ff-a862-9cc6dfeb3629 div.sk-parallel-item:only-child::after {width: 0;}#sk-8690b15e-6f5c-43ff-a862-9cc6dfeb3629 div.sk-dashed-wrapped {border: 1px dashed gray;margin: 0 0.4em 0.5em 0.4em;box-sizing: border-box;padding-bottom: 0.4em;background-color: white;position: relative;}#sk-8690b15e-6f5c-43ff-a862-9cc6dfeb3629 div.sk-label label {font-family: monospace;font-weight: bold;background-color: white;display: inline-block;line-height: 1.2em;}#sk-8690b15e-6f5c-43ff-a862-9cc6dfeb3629 div.sk-label-container {position: relative;z-index: 2;text-align: center;}#sk-8690b15e-6f5c-43ff-a862-9cc6dfeb3629 div.sk-container {/* jupyter's `normalize.less` sets `[hidden] { display: none; }` but bootstrap.min.css set `[hidden] { display: none !important; }` so we also need the `!important` here to be able to override the default hidden behavior on the sphinx rendered scikit-learn.org. See: https://github.com/scikit-learn/scikit-learn/issues/21755 */display: inline-block !important;position: relative;}#sk-8690b15e-6f5c-43ff-a862-9cc6dfeb3629 div.sk-text-repr-fallback {display: none;}</style><div id=\"sk-8690b15e-6f5c-43ff-a862-9cc6dfeb3629\" class=\"sk-top-container\"><div class=\"sk-text-repr-fallback\"><pre>Pipeline(steps=[(&#x27;preprocess&#x27;,\n",
       "                 ColumnTransformer(transformers=[(&#x27;num&#x27;,\n",
       "                                                  Pipeline(steps=[(&#x27;imputer&#x27;,\n",
       "                                                                   SimpleImputer()),\n",
       "                                                                  (&#x27;scaler&#x27;,\n",
       "                                                                   StandardScaler())]),\n",
       "                                                  Index([&#x27;workingday&#x27;, &#x27;temp&#x27;, &#x27;atemp&#x27;, &#x27;hum&#x27;, &#x27;windspeed&#x27;], dtype=&#x27;object&#x27;)),\n",
       "                                                 (&#x27;cat&#x27;,\n",
       "                                                  Pipeline(steps=[(&#x27;imputer&#x27;,\n",
       "                                                                   SimpleImputer(strategy=&#x27;most_frequent&#x27;)),\n",
       "                                                                  (&#x27;onehot&#x27;,\n",
       "                                                                   OneHotEncoder(drop=&#x27;first&#x27;))]),\n",
       "                                                  Index([&#x27;season&#x27;, &#x27;yr&#x27;, &#x27;mnth&#x27;, &#x27;hr&#x27;, &#x27;weekday&#x27;, &#x27;weathersit&#x27;, &#x27;day&#x27;], dtype=&#x27;object&#x27;))])),\n",
       "                (&#x27;poly&#x27;, PolynomialFeatures(include_bias=False)),\n",
       "                (&#x27;select&#x27;,\n",
       "                 SelectKBest(k=15,\n",
       "                             score_func=&lt;function f_regression at 0x7f81e9955ee0&gt;)),\n",
       "                (&#x27;model&#x27;, LinearRegression())])</pre><b>Please rerun this cell to show the HTML repr or trust the notebook.</b></div><div class=\"sk-container\" hidden><div class=\"sk-item sk-dashed-wrapped\"><div class=\"sk-label-container\"><div class=\"sk-label sk-toggleable\"><input class=\"sk-toggleable__control sk-hidden--visually\" id=\"5d6c371c-9396-4f25-8a64-9e618f674130\" type=\"checkbox\" ><label for=\"5d6c371c-9396-4f25-8a64-9e618f674130\" class=\"sk-toggleable__label sk-toggleable__label-arrow\">Pipeline</label><div class=\"sk-toggleable__content\"><pre>Pipeline(steps=[(&#x27;preprocess&#x27;,\n",
       "                 ColumnTransformer(transformers=[(&#x27;num&#x27;,\n",
       "                                                  Pipeline(steps=[(&#x27;imputer&#x27;,\n",
       "                                                                   SimpleImputer()),\n",
       "                                                                  (&#x27;scaler&#x27;,\n",
       "                                                                   StandardScaler())]),\n",
       "                                                  Index([&#x27;workingday&#x27;, &#x27;temp&#x27;, &#x27;atemp&#x27;, &#x27;hum&#x27;, &#x27;windspeed&#x27;], dtype=&#x27;object&#x27;)),\n",
       "                                                 (&#x27;cat&#x27;,\n",
       "                                                  Pipeline(steps=[(&#x27;imputer&#x27;,\n",
       "                                                                   SimpleImputer(strategy=&#x27;most_frequent&#x27;)),\n",
       "                                                                  (&#x27;onehot&#x27;,\n",
       "                                                                   OneHotEncoder(drop=&#x27;first&#x27;))]),\n",
       "                                                  Index([&#x27;season&#x27;, &#x27;yr&#x27;, &#x27;mnth&#x27;, &#x27;hr&#x27;, &#x27;weekday&#x27;, &#x27;weathersit&#x27;, &#x27;day&#x27;], dtype=&#x27;object&#x27;))])),\n",
       "                (&#x27;poly&#x27;, PolynomialFeatures(include_bias=False)),\n",
       "                (&#x27;select&#x27;,\n",
       "                 SelectKBest(k=15,\n",
       "                             score_func=&lt;function f_regression at 0x7f81e9955ee0&gt;)),\n",
       "                (&#x27;model&#x27;, LinearRegression())])</pre></div></div></div><div class=\"sk-serial\"><div class=\"sk-item sk-dashed-wrapped\"><div class=\"sk-label-container\"><div class=\"sk-label sk-toggleable\"><input class=\"sk-toggleable__control sk-hidden--visually\" id=\"a46e68a3-0a92-4a20-938c-4c486ef2706f\" type=\"checkbox\" ><label for=\"a46e68a3-0a92-4a20-938c-4c486ef2706f\" class=\"sk-toggleable__label sk-toggleable__label-arrow\">preprocess: ColumnTransformer</label><div class=\"sk-toggleable__content\"><pre>ColumnTransformer(transformers=[(&#x27;num&#x27;,\n",
       "                                 Pipeline(steps=[(&#x27;imputer&#x27;, SimpleImputer()),\n",
       "                                                 (&#x27;scaler&#x27;, StandardScaler())]),\n",
       "                                 Index([&#x27;workingday&#x27;, &#x27;temp&#x27;, &#x27;atemp&#x27;, &#x27;hum&#x27;, &#x27;windspeed&#x27;], dtype=&#x27;object&#x27;)),\n",
       "                                (&#x27;cat&#x27;,\n",
       "                                 Pipeline(steps=[(&#x27;imputer&#x27;,\n",
       "                                                  SimpleImputer(strategy=&#x27;most_frequent&#x27;)),\n",
       "                                                 (&#x27;onehot&#x27;,\n",
       "                                                  OneHotEncoder(drop=&#x27;first&#x27;))]),\n",
       "                                 Index([&#x27;season&#x27;, &#x27;yr&#x27;, &#x27;mnth&#x27;, &#x27;hr&#x27;, &#x27;weekday&#x27;, &#x27;weathersit&#x27;, &#x27;day&#x27;], dtype=&#x27;object&#x27;))])</pre></div></div></div><div class=\"sk-parallel\"><div class=\"sk-parallel-item\"><div class=\"sk-item\"><div class=\"sk-label-container\"><div class=\"sk-label sk-toggleable\"><input class=\"sk-toggleable__control sk-hidden--visually\" id=\"83856eaa-0780-43ba-a40c-187734cf5790\" type=\"checkbox\" ><label for=\"83856eaa-0780-43ba-a40c-187734cf5790\" class=\"sk-toggleable__label sk-toggleable__label-arrow\">num</label><div class=\"sk-toggleable__content\"><pre>Index([&#x27;workingday&#x27;, &#x27;temp&#x27;, &#x27;atemp&#x27;, &#x27;hum&#x27;, &#x27;windspeed&#x27;], dtype=&#x27;object&#x27;)</pre></div></div></div><div class=\"sk-serial\"><div class=\"sk-item\"><div class=\"sk-serial\"><div class=\"sk-item\"><div class=\"sk-estimator sk-toggleable\"><input class=\"sk-toggleable__control sk-hidden--visually\" id=\"74c7b4fe-c95b-4636-b042-b49efcfe2910\" type=\"checkbox\" ><label for=\"74c7b4fe-c95b-4636-b042-b49efcfe2910\" class=\"sk-toggleable__label sk-toggleable__label-arrow\">SimpleImputer</label><div class=\"sk-toggleable__content\"><pre>SimpleImputer()</pre></div></div></div><div class=\"sk-item\"><div class=\"sk-estimator sk-toggleable\"><input class=\"sk-toggleable__control sk-hidden--visually\" id=\"5f025e89-4ae1-480b-a09c-f81ba8bc26ff\" type=\"checkbox\" ><label for=\"5f025e89-4ae1-480b-a09c-f81ba8bc26ff\" class=\"sk-toggleable__label sk-toggleable__label-arrow\">StandardScaler</label><div class=\"sk-toggleable__content\"><pre>StandardScaler()</pre></div></div></div></div></div></div></div></div><div class=\"sk-parallel-item\"><div class=\"sk-item\"><div class=\"sk-label-container\"><div class=\"sk-label sk-toggleable\"><input class=\"sk-toggleable__control sk-hidden--visually\" id=\"d09ce3df-4b8d-49d4-a950-0c8a5397aadf\" type=\"checkbox\" ><label for=\"d09ce3df-4b8d-49d4-a950-0c8a5397aadf\" class=\"sk-toggleable__label sk-toggleable__label-arrow\">cat</label><div class=\"sk-toggleable__content\"><pre>Index([&#x27;season&#x27;, &#x27;yr&#x27;, &#x27;mnth&#x27;, &#x27;hr&#x27;, &#x27;weekday&#x27;, &#x27;weathersit&#x27;, &#x27;day&#x27;], dtype=&#x27;object&#x27;)</pre></div></div></div><div class=\"sk-serial\"><div class=\"sk-item\"><div class=\"sk-serial\"><div class=\"sk-item\"><div class=\"sk-estimator sk-toggleable\"><input class=\"sk-toggleable__control sk-hidden--visually\" id=\"53b99143-ac9a-4f22-bdac-67abf621d421\" type=\"checkbox\" ><label for=\"53b99143-ac9a-4f22-bdac-67abf621d421\" class=\"sk-toggleable__label sk-toggleable__label-arrow\">SimpleImputer</label><div class=\"sk-toggleable__content\"><pre>SimpleImputer(strategy=&#x27;most_frequent&#x27;)</pre></div></div></div><div class=\"sk-item\"><div class=\"sk-estimator sk-toggleable\"><input class=\"sk-toggleable__control sk-hidden--visually\" id=\"f9b6776f-8e13-4624-b4ea-2a92461cbab7\" type=\"checkbox\" ><label for=\"f9b6776f-8e13-4624-b4ea-2a92461cbab7\" class=\"sk-toggleable__label sk-toggleable__label-arrow\">OneHotEncoder</label><div class=\"sk-toggleable__content\"><pre>OneHotEncoder(drop=&#x27;first&#x27;)</pre></div></div></div></div></div></div></div></div></div></div><div class=\"sk-item\"><div class=\"sk-estimator sk-toggleable\"><input class=\"sk-toggleable__control sk-hidden--visually\" id=\"9ff2207f-5ec5-438f-8242-ff02fe27f952\" type=\"checkbox\" ><label for=\"9ff2207f-5ec5-438f-8242-ff02fe27f952\" class=\"sk-toggleable__label sk-toggleable__label-arrow\">PolynomialFeatures</label><div class=\"sk-toggleable__content\"><pre>PolynomialFeatures(include_bias=False)</pre></div></div></div><div class=\"sk-item\"><div class=\"sk-estimator sk-toggleable\"><input class=\"sk-toggleable__control sk-hidden--visually\" id=\"30298da9-aec9-4a7c-ac0c-7dfd95271c8d\" type=\"checkbox\" ><label for=\"30298da9-aec9-4a7c-ac0c-7dfd95271c8d\" class=\"sk-toggleable__label sk-toggleable__label-arrow\">SelectKBest</label><div class=\"sk-toggleable__content\"><pre>SelectKBest(k=15, score_func=&lt;function f_regression at 0x7f81e9955ee0&gt;)</pre></div></div></div><div class=\"sk-item\"><div class=\"sk-estimator sk-toggleable\"><input class=\"sk-toggleable__control sk-hidden--visually\" id=\"fe4aca92-4c82-4406-92d9-b3da5aefca1d\" type=\"checkbox\" ><label for=\"fe4aca92-4c82-4406-92d9-b3da5aefca1d\" class=\"sk-toggleable__label sk-toggleable__label-arrow\">LinearRegression</label><div class=\"sk-toggleable__content\"><pre>LinearRegression()</pre></div></div></div></div></div></div></div>"
      ],
      "text/plain": [
       "Pipeline(steps=[('preprocess',\n",
       "                 ColumnTransformer(transformers=[('num',\n",
       "                                                  Pipeline(steps=[('imputer',\n",
       "                                                                   SimpleImputer()),\n",
       "                                                                  ('scaler',\n",
       "                                                                   StandardScaler())]),\n",
       "                                                  Index(['workingday', 'temp', 'atemp', 'hum', 'windspeed'], dtype='object')),\n",
       "                                                 ('cat',\n",
       "                                                  Pipeline(steps=[('imputer',\n",
       "                                                                   SimpleImputer(strategy='most_frequent')),\n",
       "                                                                  ('onehot',\n",
       "                                                                   OneHotEncoder(drop='first'))]),\n",
       "                                                  Index(['season', 'yr', 'mnth', 'hr', 'weekday', 'weathersit', 'day'], dtype='object'))])),\n",
       "                ('poly', PolynomialFeatures(include_bias=False)),\n",
       "                ('select',\n",
       "                 SelectKBest(k=15,\n",
       "                             score_func=<function f_regression at 0x7f81e9955ee0>)),\n",
       "                ('model', LinearRegression())])"
      ]
     },
     "execution_count": 79,
     "metadata": {},
     "output_type": "execute_result"
    }
   ],
   "source": [
    "from sklearn import set_config\n",
    "set_config(display= 'diagram')\n",
    "final_pipeline_oh"
   ]
  },
  {
   "cell_type": "code",
   "execution_count": 59,
   "id": "eb7e239d",
   "metadata": {},
   "outputs": [
    {
     "name": "stdout",
     "output_type": "stream",
     "text": [
      "Warning: No categorical columns found. Calling 'transform' will only return input data.\n",
      "Warning: No categorical columns found. Calling 'transform' will only return input data.\n",
      "Warning: No categorical columns found. Calling 'transform' will only return input data.\n",
      "Warning: No categorical columns found. Calling 'transform' will only return input data.\n",
      "Warning: No categorical columns found. Calling 'transform' will only return input data.\n",
      "Warning: No categorical columns found. Calling 'transform' will only return input data.\n",
      "Warning: No categorical columns found. Calling 'transform' will only return input data.\n",
      "Warning: No categorical columns found. Calling 'transform' will only return input data.\n",
      "Warning: No categorical columns found. Calling 'transform' will only return input data.\n",
      "Warning: No categorical columns found. Calling 'transform' will only return input data.\n",
      "Warning: No categorical columns found. Calling 'transform' will only return input data.\n",
      "Warning: No categorical columns found. Calling 'transform' will only return input data.\n",
      "Warning: No categorical columns found. Calling 'transform' will only return input data.\n",
      "Warning: No categorical columns found. Calling 'transform' will only return input data.\n",
      "Warning: No categorical columns found. Calling 'transform' will only return input data.\n",
      "Warning: No categorical columns found. Calling 'transform' will only return input data.\n",
      "Warning: No categorical columns found. Calling 'transform' will only return input data.\n",
      "Warning: No categorical columns found. Calling 'transform' will only return input data.\n",
      "Warning: No categorical columns found. Calling 'transform' will only return input data.\n",
      "Warning: No categorical columns found. Calling 'transform' will only return input data.\n",
      "Warning: No categorical columns found. Calling 'transform' will only return input data.\n",
      "Warning: No categorical columns found. Calling 'transform' will only return input data.\n",
      "Warning: No categorical columns found. Calling 'transform' will only return input data.\n",
      "Warning: No categorical columns found. Calling 'transform' will only return input data.\n",
      "Warning: No categorical columns found. Calling 'transform' will only return input data.\n"
     ]
    },
    {
     "data": {
      "text/plain": [
       "GridSearchCV(cv=3,\n",
       "             estimator=Pipeline(steps=[('preprocess',\n",
       "                                        ColumnTransformer(transformers=[('num',\n",
       "                                                                         Pipeline(steps=[('imputer',\n",
       "                                                                                          SimpleImputer()),\n",
       "                                                                                         ('scaler',\n",
       "                                                                                          StandardScaler())]),\n",
       "                                                                         Index(['workingday', 'temp', 'atemp', 'hum', 'windspeed'], dtype='object')),\n",
       "                                                                        ('cat',\n",
       "                                                                         Pipeline(steps=[('imputer',\n",
       "                                                                                          SimpleImputer(strategy='most_frequent')),\n",
       "                                                                                         ('target_encoder',\n",
       "                                                                                          TargetEncoder()...\n",
       "                                                                         Index(['season', 'yr', 'mnth', 'hr', 'weekday', 'weathersit', 'day'], dtype='object'))])),\n",
       "                                       ('poly',\n",
       "                                        PolynomialFeatures(include_bias=False)),\n",
       "                                       ('select',\n",
       "                                        SelectKBest(k=15,\n",
       "                                                    score_func=<function f_regression at 0x7f81e9955ee0>)),\n",
       "                                       ('model', LinearRegression())]),\n",
       "             param_grid={'preprocess__cat__target_encoder__smoothing': ['auto',\n",
       "                                                                        'float'],\n",
       "                         'select__k': [30, 35, 40, 45]},\n",
       "             scoring='neg_mean_squared_error')"
      ]
     },
     "execution_count": 59,
     "metadata": {},
     "output_type": "execute_result"
    }
   ],
   "source": [
    "\n",
    "grid_search_te.fit(X_train, y_train)"
   ]
  },
  {
   "cell_type": "code",
   "execution_count": 68,
   "id": "66a8a618",
   "metadata": {},
   "outputs": [],
   "source": [
    "import mlflow\n",
    "\n",
    "#connecting the server in localhost\n",
    "mlflow.set_tracking_uri(uri=\"http://127.0.0.1:8080\")\n"
   ]
  },
  {
   "cell_type": "code",
   "execution_count": 72,
   "id": "6bc8a773",
   "metadata": {},
   "outputs": [],
   "source": [
    "mlflow.set_experiment(\"MLops Assignment\")\n",
    "\n",
    "def mlfw(X ,encoder,grid_search,r2,mse):\n",
    "\n",
    "    with mlflow.start_run():\n",
    "\n",
    "        # Set a tag that we can use to remind ourselves what this run was for\n",
    "        mlflow.set_tag(\"Training Info\", encoder)\n",
    "\n",
    "        # Log best parameters\n",
    "        mlflow.log_params(grid_search.best_params_)\n",
    "\n",
    "        # Log model\n",
    "        mlflow.sklearn.log_model(\n",
    "            grid_search.best_estimator_,\n",
    "            artifact_path=\"Grid_search\",\n",
    "            input_example=X,\n",
    "            registered_model_name=\"tracking_regression\",\n",
    "            )\n",
    "\n",
    "\n",
    "\n",
    "\n",
    "        mlflow.log_metric(\"r2\", r2)\n",
    "        mlflow.log_metric(\"mse\", mse)\n"
   ]
  },
  {
   "cell_type": "code",
   "execution_count": null,
   "id": "e101333c",
   "metadata": {},
   "outputs": [],
   "source": []
  },
  {
   "cell_type": "code",
   "execution_count": 81,
   "id": "dbe21b1f",
   "metadata": {},
   "outputs": [
    {
     "name": "stdout",
     "output_type": "stream",
     "text": [
      "Warning: No categorical columns found. Calling 'transform' will only return input data.\n",
      "Warning: No categorical columns found. Calling 'transform' will only return input data.\n",
      "Warning: No categorical columns found. Calling 'transform' will only return input data.\n",
      "Warning: No categorical columns found. Calling 'transform' will only return input data.\n",
      "Warning: No categorical columns found. Calling 'transform' will only return input data.\n",
      "Warning: No categorical columns found. Calling 'transform' will only return input data.\n",
      "Warning: No categorical columns found. Calling 'transform' will only return input data.\n",
      "Warning: No categorical columns found. Calling 'transform' will only return input data.\n",
      "Warning: No categorical columns found. Calling 'transform' will only return input data.\n",
      "Warning: No categorical columns found. Calling 'transform' will only return input data.\n",
      "Warning: No categorical columns found. Calling 'transform' will only return input data.\n",
      "Warning: No categorical columns found. Calling 'transform' will only return input data.\n",
      "Warning: No categorical columns found. Calling 'transform' will only return input data.\n",
      "for one hot encoder\n",
      "Best Parameters: {'select__k': 45}\n",
      "Mean Squared Error: 14794.79981142752\n",
      "R-squared: 0.5327772737821943\n"
     ]
    },
    {
     "name": "stderr",
     "output_type": "stream",
     "text": [
      "/home/sanish/myprogram/lib/python3.9/site-packages/mlflow/types/utils.py:406: UserWarning: Hint: Inferred schema contains integer column(s). Integer columns in Python cannot represent missing values. If your input data contains missing values at inference time, it will be encoded as floats and will cause a schema enforcement error. The best way to avoid this problem is to infer the model schema based on a realistic data sample (training dataset) that includes missing values. Alternatively, you can declare integer columns as doubles (float64) whenever these columns may have missing values. See `Handling Integers With Missing Values <https://www.mlflow.org/docs/latest/models.html#handling-integers-with-missing-values>`_ for more details.\n",
      "  warnings.warn(\n",
      "2024/08/27 12:35:38 WARNING mlflow.models.signature: Failed to infer the model signature from the input example. Reason: MlflowException(\"Failed to enforce schema of data '      season yr mnth  hr weekday  workingday weathersit  temp   atemp   hum  \\\\\\n335        1  0    1  11       6           0          1  0.20  0.1970  0.55   \\n7035       4  0   10  18       2           1          1  0.52  0.5000  0.42   \\n8051       4  0   12   3       3           1          3  0.46  0.4545  1.00   \\n2133       2  0    4  18       0           0          2  0.46  0.4545  0.31   \\n8485       1  0   12   6       0           0          1  0.20  0.2273  0.75   \\n...      ... ..  ...  ..     ...         ...        ...   ...     ...   ...   \\n11284      2  1    4   9       5           1          1  0.46  0.4545  0.88   \\n11964      2  1    5  17       5           1          1  0.66  0.6212  0.34   \\n5390       3  0    8  12       3           1          1  0.80  0.7273  0.43   \\n860        1  0    2   7       2           1          1  0.24  0.1970  0.65   \\n15795      4  1   10   8       4           1          2  0.52  0.5000  0.83   \\n\\n       windspeed day  \\n335       0.2239  15  \\n7035      0.1045  25  \\n8051      0.2239   7  \\n2133      0.0000   3  \\n8485      0.1045  25  \\n...          ...  ..  \\n11284     0.0896  20  \\n11964     0.1343  18  \\n5390      0.2836  17  \\n860       0.4179   8  \\n15795     0.1642  25  \\n\\n[13903 rows x 12 columns]' with schema '['season': long (required), 'yr': long (required), 'mnth': long (required), 'hr': long (required), 'weekday': long (required), 'workingday': long (required), 'weathersit': long (required), 'temp': double (required), 'atemp': double (required), 'hum': double (required), 'windspeed': double (required), 'day': long (required)]'. Error: Incompatible input types for column season. Can not safely convert category to int64.\"). To see the full traceback, set the logging level to DEBUG via `logging.getLogger(\"mlflow\").setLevel(logging.DEBUG)`. To disable automatic signature inference, set `signature` to `False` in your `log_model` or `save_model` call.\n",
      "Registered model 'tracking_regression' already exists. Creating a new version of this model...\n",
      "2024/08/27 12:35:40 INFO mlflow.store.model_registry.abstract_store: Waiting up to 300 seconds for model version to finish creation. Model name: tracking_regression, version 3\n",
      "Created version '3' of model 'tracking_regression'.\n"
     ]
    },
    {
     "data": {
      "application/vnd.jupyter.widget-view+json": {
       "model_id": "c510787a6f3f43fd8ac087b4b1568967",
       "version_major": 2,
       "version_minor": 0
      },
      "text/plain": [
       "Downloading artifacts:   0%|          | 0/7 [00:00<?, ?it/s]"
      ]
     },
     "metadata": {},
     "output_type": "display_data"
    },
    {
     "name": "stderr",
     "output_type": "stream",
     "text": [
      "2024/08/27 12:35:42 INFO mlflow.tracking._tracking_service.client: 🏃 View run invincible-eel-909 at: http://127.0.0.1:8080/#/experiments/634179549177378349/runs/e2c8da9075f441da963457a15015449c.\n",
      "2024/08/27 12:35:42 INFO mlflow.tracking._tracking_service.client: 🧪 View experiment at: http://127.0.0.1:8080/#/experiments/634179549177378349.\n"
     ]
    }
   ],
   "source": [
    "param_grid = {\n",
    "    'select__k' : [30,45,50,60]\n",
    "}\n",
    "final_pipe_te = pipe()\n",
    "\n",
    "grid_search_te = GridSearchCV(final_pipe_te, param_grid, cv=3, scoring='neg_mean_squared_error')\n",
    "grid_search_te.fit(X_train, y_train)\n",
    "y_pred = grid_search_te.predict(X_test)\n",
    "r2 = r2_score(y_test, y_pred)\n",
    "mse = mean_squared_error(y_test, y_pred)\n",
    "\n",
    "\n",
    "print(\"for one hot encoder\")\n",
    "print(f\"Best Parameters: {grid_search_oh.best_params_}\")\n",
    "print(f\"Mean Squared Error: {mse}\")\n",
    "print(f\"R-squared: {r2}\")\n",
    "\n",
    "mlfw(X_train ,\"Target encoder\",grid_search_te,r2,mse)"
   ]
  },
  {
   "cell_type": "code",
   "execution_count": null,
   "id": "f90f6440",
   "metadata": {},
   "outputs": [],
   "source": []
  },
  {
   "cell_type": "code",
   "execution_count": 76,
   "id": "01110ba2",
   "metadata": {},
   "outputs": [
    {
     "name": "stderr",
     "output_type": "stream",
     "text": [
      "/home/sanish/myprogram/lib/python3.9/site-packages/sklearn/feature_selection/_univariate_selection.py:289: RuntimeWarning: invalid value encountered in true_divide\n",
      "  correlation_coefficient /= X_norms\n",
      "/home/sanish/myprogram/lib/python3.9/site-packages/sklearn/feature_selection/_univariate_selection.py:289: RuntimeWarning: invalid value encountered in true_divide\n",
      "  correlation_coefficient /= X_norms\n",
      "/home/sanish/myprogram/lib/python3.9/site-packages/sklearn/model_selection/_validation.py:770: UserWarning: Scoring failed. The score on this train-test partition for these parameters will be set to nan. Details: \n",
      "Traceback (most recent call last):\n",
      "  File \"/home/sanish/myprogram/lib/python3.9/site-packages/sklearn/model_selection/_validation.py\", line 761, in _score\n",
      "    scores = scorer(estimator, X_test, y_test)\n",
      "  File \"/home/sanish/myprogram/lib/python3.9/site-packages/sklearn/metrics/_scorer.py\", line 216, in __call__\n",
      "    return self._score(\n",
      "  File \"/home/sanish/myprogram/lib/python3.9/site-packages/sklearn/metrics/_scorer.py\", line 258, in _score\n",
      "    y_pred = method_caller(estimator, \"predict\", X)\n",
      "  File \"/home/sanish/myprogram/lib/python3.9/site-packages/sklearn/metrics/_scorer.py\", line 68, in _cached_call\n",
      "    return getattr(estimator, method)(*args, **kwargs)\n",
      "  File \"/home/sanish/myprogram/lib/python3.9/site-packages/sklearn/utils/metaestimators.py\", line 113, in <lambda>\n",
      "    out = lambda *args, **kwargs: self.fn(obj, *args, **kwargs)  # noqa\n",
      "  File \"/home/sanish/myprogram/lib/python3.9/site-packages/sklearn/pipeline.py\", line 469, in predict\n",
      "    Xt = transform.transform(Xt)\n",
      "  File \"/home/sanish/myprogram/lib/python3.9/site-packages/sklearn/compose/_column_transformer.py\", line 748, in transform\n",
      "    Xs = self._fit_transform(\n",
      "  File \"/home/sanish/myprogram/lib/python3.9/site-packages/sklearn/compose/_column_transformer.py\", line 606, in _fit_transform\n",
      "    return Parallel(n_jobs=self.n_jobs)(\n",
      "  File \"/home/sanish/myprogram/lib/python3.9/site-packages/joblib/parallel.py\", line 1046, in __call__\n",
      "    while self.dispatch_one_batch(iterator):\n",
      "  File \"/home/sanish/myprogram/lib/python3.9/site-packages/joblib/parallel.py\", line 861, in dispatch_one_batch\n",
      "    self._dispatch(tasks)\n",
      "  File \"/home/sanish/myprogram/lib/python3.9/site-packages/joblib/parallel.py\", line 779, in _dispatch\n",
      "    job = self._backend.apply_async(batch, callback=cb)\n",
      "  File \"/home/sanish/myprogram/lib/python3.9/site-packages/joblib/_parallel_backends.py\", line 208, in apply_async\n",
      "    result = ImmediateResult(func)\n",
      "  File \"/home/sanish/myprogram/lib/python3.9/site-packages/joblib/_parallel_backends.py\", line 572, in __init__\n",
      "    self.results = batch()\n",
      "  File \"/home/sanish/myprogram/lib/python3.9/site-packages/joblib/parallel.py\", line 262, in __call__\n",
      "    return [func(*args, **kwargs)\n",
      "  File \"/home/sanish/myprogram/lib/python3.9/site-packages/joblib/parallel.py\", line 262, in <listcomp>\n",
      "    return [func(*args, **kwargs)\n",
      "  File \"/home/sanish/myprogram/lib/python3.9/site-packages/sklearn/utils/fixes.py\", line 216, in __call__\n",
      "    return self.function(*args, **kwargs)\n",
      "  File \"/home/sanish/myprogram/lib/python3.9/site-packages/sklearn/pipeline.py\", line 876, in _transform_one\n",
      "    res = transformer.transform(X)\n",
      "  File \"/home/sanish/myprogram/lib/python3.9/site-packages/sklearn/utils/metaestimators.py\", line 113, in <lambda>\n",
      "    out = lambda *args, **kwargs: self.fn(obj, *args, **kwargs)  # noqa\n",
      "  File \"/home/sanish/myprogram/lib/python3.9/site-packages/sklearn/pipeline.py\", line 647, in transform\n",
      "    Xt = transform.transform(Xt)\n",
      "  File \"/home/sanish/myprogram/lib/python3.9/site-packages/sklearn/preprocessing/_encoders.py\", line 509, in transform\n",
      "    X_int, X_mask = self._transform(\n",
      "  File \"/home/sanish/myprogram/lib/python3.9/site-packages/sklearn/preprocessing/_encoders.py\", line 142, in _transform\n",
      "    raise ValueError(msg)\n",
      "ValueError: Found unknown categories [4] in column 5 during transform\n",
      "\n",
      "  warnings.warn(\n",
      "/home/sanish/myprogram/lib/python3.9/site-packages/sklearn/feature_selection/_univariate_selection.py:289: RuntimeWarning: invalid value encountered in true_divide\n",
      "  correlation_coefficient /= X_norms\n",
      "/home/sanish/myprogram/lib/python3.9/site-packages/sklearn/feature_selection/_univariate_selection.py:289: RuntimeWarning: invalid value encountered in true_divide\n",
      "  correlation_coefficient /= X_norms\n",
      "/home/sanish/myprogram/lib/python3.9/site-packages/sklearn/feature_selection/_univariate_selection.py:289: RuntimeWarning: invalid value encountered in true_divide\n",
      "  correlation_coefficient /= X_norms\n",
      "/home/sanish/myprogram/lib/python3.9/site-packages/sklearn/model_selection/_validation.py:770: UserWarning: Scoring failed. The score on this train-test partition for these parameters will be set to nan. Details: \n",
      "Traceback (most recent call last):\n",
      "  File \"/home/sanish/myprogram/lib/python3.9/site-packages/sklearn/model_selection/_validation.py\", line 761, in _score\n",
      "    scores = scorer(estimator, X_test, y_test)\n",
      "  File \"/home/sanish/myprogram/lib/python3.9/site-packages/sklearn/metrics/_scorer.py\", line 216, in __call__\n",
      "    return self._score(\n",
      "  File \"/home/sanish/myprogram/lib/python3.9/site-packages/sklearn/metrics/_scorer.py\", line 258, in _score\n",
      "    y_pred = method_caller(estimator, \"predict\", X)\n",
      "  File \"/home/sanish/myprogram/lib/python3.9/site-packages/sklearn/metrics/_scorer.py\", line 68, in _cached_call\n",
      "    return getattr(estimator, method)(*args, **kwargs)\n",
      "  File \"/home/sanish/myprogram/lib/python3.9/site-packages/sklearn/utils/metaestimators.py\", line 113, in <lambda>\n",
      "    out = lambda *args, **kwargs: self.fn(obj, *args, **kwargs)  # noqa\n",
      "  File \"/home/sanish/myprogram/lib/python3.9/site-packages/sklearn/pipeline.py\", line 469, in predict\n",
      "    Xt = transform.transform(Xt)\n",
      "  File \"/home/sanish/myprogram/lib/python3.9/site-packages/sklearn/compose/_column_transformer.py\", line 748, in transform\n",
      "    Xs = self._fit_transform(\n",
      "  File \"/home/sanish/myprogram/lib/python3.9/site-packages/sklearn/compose/_column_transformer.py\", line 606, in _fit_transform\n",
      "    return Parallel(n_jobs=self.n_jobs)(\n",
      "  File \"/home/sanish/myprogram/lib/python3.9/site-packages/joblib/parallel.py\", line 1046, in __call__\n",
      "    while self.dispatch_one_batch(iterator):\n",
      "  File \"/home/sanish/myprogram/lib/python3.9/site-packages/joblib/parallel.py\", line 861, in dispatch_one_batch\n",
      "    self._dispatch(tasks)\n",
      "  File \"/home/sanish/myprogram/lib/python3.9/site-packages/joblib/parallel.py\", line 779, in _dispatch\n",
      "    job = self._backend.apply_async(batch, callback=cb)\n",
      "  File \"/home/sanish/myprogram/lib/python3.9/site-packages/joblib/_parallel_backends.py\", line 208, in apply_async\n",
      "    result = ImmediateResult(func)\n",
      "  File \"/home/sanish/myprogram/lib/python3.9/site-packages/joblib/_parallel_backends.py\", line 572, in __init__\n",
      "    self.results = batch()\n",
      "  File \"/home/sanish/myprogram/lib/python3.9/site-packages/joblib/parallel.py\", line 262, in __call__\n",
      "    return [func(*args, **kwargs)\n",
      "  File \"/home/sanish/myprogram/lib/python3.9/site-packages/joblib/parallel.py\", line 262, in <listcomp>\n",
      "    return [func(*args, **kwargs)\n",
      "  File \"/home/sanish/myprogram/lib/python3.9/site-packages/sklearn/utils/fixes.py\", line 216, in __call__\n",
      "    return self.function(*args, **kwargs)\n",
      "  File \"/home/sanish/myprogram/lib/python3.9/site-packages/sklearn/pipeline.py\", line 876, in _transform_one\n",
      "    res = transformer.transform(X)\n",
      "  File \"/home/sanish/myprogram/lib/python3.9/site-packages/sklearn/utils/metaestimators.py\", line 113, in <lambda>\n",
      "    out = lambda *args, **kwargs: self.fn(obj, *args, **kwargs)  # noqa\n",
      "  File \"/home/sanish/myprogram/lib/python3.9/site-packages/sklearn/pipeline.py\", line 647, in transform\n",
      "    Xt = transform.transform(Xt)\n",
      "  File \"/home/sanish/myprogram/lib/python3.9/site-packages/sklearn/preprocessing/_encoders.py\", line 509, in transform\n",
      "    X_int, X_mask = self._transform(\n",
      "  File \"/home/sanish/myprogram/lib/python3.9/site-packages/sklearn/preprocessing/_encoders.py\", line 142, in _transform\n",
      "    raise ValueError(msg)\n",
      "ValueError: Found unknown categories [4] in column 5 during transform\n",
      "\n",
      "  warnings.warn(\n",
      "/home/sanish/myprogram/lib/python3.9/site-packages/sklearn/feature_selection/_univariate_selection.py:289: RuntimeWarning: invalid value encountered in true_divide\n",
      "  correlation_coefficient /= X_norms\n",
      "/home/sanish/myprogram/lib/python3.9/site-packages/sklearn/feature_selection/_univariate_selection.py:289: RuntimeWarning: invalid value encountered in true_divide\n",
      "  correlation_coefficient /= X_norms\n"
     ]
    },
    {
     "name": "stderr",
     "output_type": "stream",
     "text": [
      "/home/sanish/myprogram/lib/python3.9/site-packages/sklearn/feature_selection/_univariate_selection.py:289: RuntimeWarning: invalid value encountered in true_divide\n",
      "  correlation_coefficient /= X_norms\n",
      "/home/sanish/myprogram/lib/python3.9/site-packages/sklearn/model_selection/_validation.py:770: UserWarning: Scoring failed. The score on this train-test partition for these parameters will be set to nan. Details: \n",
      "Traceback (most recent call last):\n",
      "  File \"/home/sanish/myprogram/lib/python3.9/site-packages/sklearn/model_selection/_validation.py\", line 761, in _score\n",
      "    scores = scorer(estimator, X_test, y_test)\n",
      "  File \"/home/sanish/myprogram/lib/python3.9/site-packages/sklearn/metrics/_scorer.py\", line 216, in __call__\n",
      "    return self._score(\n",
      "  File \"/home/sanish/myprogram/lib/python3.9/site-packages/sklearn/metrics/_scorer.py\", line 258, in _score\n",
      "    y_pred = method_caller(estimator, \"predict\", X)\n",
      "  File \"/home/sanish/myprogram/lib/python3.9/site-packages/sklearn/metrics/_scorer.py\", line 68, in _cached_call\n",
      "    return getattr(estimator, method)(*args, **kwargs)\n",
      "  File \"/home/sanish/myprogram/lib/python3.9/site-packages/sklearn/utils/metaestimators.py\", line 113, in <lambda>\n",
      "    out = lambda *args, **kwargs: self.fn(obj, *args, **kwargs)  # noqa\n",
      "  File \"/home/sanish/myprogram/lib/python3.9/site-packages/sklearn/pipeline.py\", line 469, in predict\n",
      "    Xt = transform.transform(Xt)\n",
      "  File \"/home/sanish/myprogram/lib/python3.9/site-packages/sklearn/compose/_column_transformer.py\", line 748, in transform\n",
      "    Xs = self._fit_transform(\n",
      "  File \"/home/sanish/myprogram/lib/python3.9/site-packages/sklearn/compose/_column_transformer.py\", line 606, in _fit_transform\n",
      "    return Parallel(n_jobs=self.n_jobs)(\n",
      "  File \"/home/sanish/myprogram/lib/python3.9/site-packages/joblib/parallel.py\", line 1046, in __call__\n",
      "    while self.dispatch_one_batch(iterator):\n",
      "  File \"/home/sanish/myprogram/lib/python3.9/site-packages/joblib/parallel.py\", line 861, in dispatch_one_batch\n",
      "    self._dispatch(tasks)\n",
      "  File \"/home/sanish/myprogram/lib/python3.9/site-packages/joblib/parallel.py\", line 779, in _dispatch\n",
      "    job = self._backend.apply_async(batch, callback=cb)\n",
      "  File \"/home/sanish/myprogram/lib/python3.9/site-packages/joblib/_parallel_backends.py\", line 208, in apply_async\n",
      "    result = ImmediateResult(func)\n",
      "  File \"/home/sanish/myprogram/lib/python3.9/site-packages/joblib/_parallel_backends.py\", line 572, in __init__\n",
      "    self.results = batch()\n",
      "  File \"/home/sanish/myprogram/lib/python3.9/site-packages/joblib/parallel.py\", line 262, in __call__\n",
      "    return [func(*args, **kwargs)\n",
      "  File \"/home/sanish/myprogram/lib/python3.9/site-packages/joblib/parallel.py\", line 262, in <listcomp>\n",
      "    return [func(*args, **kwargs)\n",
      "  File \"/home/sanish/myprogram/lib/python3.9/site-packages/sklearn/utils/fixes.py\", line 216, in __call__\n",
      "    return self.function(*args, **kwargs)\n",
      "  File \"/home/sanish/myprogram/lib/python3.9/site-packages/sklearn/pipeline.py\", line 876, in _transform_one\n",
      "    res = transformer.transform(X)\n",
      "  File \"/home/sanish/myprogram/lib/python3.9/site-packages/sklearn/utils/metaestimators.py\", line 113, in <lambda>\n",
      "    out = lambda *args, **kwargs: self.fn(obj, *args, **kwargs)  # noqa\n",
      "  File \"/home/sanish/myprogram/lib/python3.9/site-packages/sklearn/pipeline.py\", line 647, in transform\n",
      "    Xt = transform.transform(Xt)\n",
      "  File \"/home/sanish/myprogram/lib/python3.9/site-packages/sklearn/preprocessing/_encoders.py\", line 509, in transform\n",
      "    X_int, X_mask = self._transform(\n",
      "  File \"/home/sanish/myprogram/lib/python3.9/site-packages/sklearn/preprocessing/_encoders.py\", line 142, in _transform\n",
      "    raise ValueError(msg)\n",
      "ValueError: Found unknown categories [4] in column 5 during transform\n",
      "\n",
      "  warnings.warn(\n",
      "/home/sanish/myprogram/lib/python3.9/site-packages/sklearn/feature_selection/_univariate_selection.py:289: RuntimeWarning: invalid value encountered in true_divide\n",
      "  correlation_coefficient /= X_norms\n",
      "/home/sanish/myprogram/lib/python3.9/site-packages/sklearn/model_selection/_search.py:969: UserWarning: One or more of the test scores are non-finite: [nan nan nan]\n",
      "  warnings.warn(\n",
      "/home/sanish/myprogram/lib/python3.9/site-packages/sklearn/feature_selection/_univariate_selection.py:289: RuntimeWarning: invalid value encountered in true_divide\n",
      "  correlation_coefficient /= X_norms\n"
     ]
    },
    {
     "name": "stdout",
     "output_type": "stream",
     "text": [
      "for one hot encoder\n",
      "Best Parameters: {'select__k': 45}\n",
      "Mean Squared Error: 11368.098220549116\n",
      "R-squared: 0.6409931928640098\n"
     ]
    },
    {
     "name": "stderr",
     "output_type": "stream",
     "text": [
      "/home/sanish/myprogram/lib/python3.9/site-packages/mlflow/types/utils.py:406: UserWarning: Hint: Inferred schema contains integer column(s). Integer columns in Python cannot represent missing values. If your input data contains missing values at inference time, it will be encoded as floats and will cause a schema enforcement error. The best way to avoid this problem is to infer the model schema based on a realistic data sample (training dataset) that includes missing values. Alternatively, you can declare integer columns as doubles (float64) whenever these columns may have missing values. See `Handling Integers With Missing Values <https://www.mlflow.org/docs/latest/models.html#handling-integers-with-missing-values>`_ for more details.\n",
      "  warnings.warn(\n",
      "2024/08/27 11:29:05 WARNING mlflow.models.signature: Failed to infer the model signature from the input example. Reason: MlflowException(\"Failed to enforce schema of data '      season yr mnth  hr weekday  workingday weathersit  temp   atemp   hum  \\\\\\n335        1  0    1  11       6           0          1  0.20  0.1970  0.55   \\n7035       4  0   10  18       2           1          1  0.52  0.5000  0.42   \\n8051       4  0   12   3       3           1          3  0.46  0.4545  1.00   \\n2133       2  0    4  18       0           0          2  0.46  0.4545  0.31   \\n8485       1  0   12   6       0           0          1  0.20  0.2273  0.75   \\n...      ... ..  ...  ..     ...         ...        ...   ...     ...   ...   \\n11284      2  1    4   9       5           1          1  0.46  0.4545  0.88   \\n11964      2  1    5  17       5           1          1  0.66  0.6212  0.34   \\n5390       3  0    8  12       3           1          1  0.80  0.7273  0.43   \\n860        1  0    2   7       2           1          1  0.24  0.1970  0.65   \\n15795      4  1   10   8       4           1          2  0.52  0.5000  0.83   \\n\\n       windspeed day  \\n335       0.2239  15  \\n7035      0.1045  25  \\n8051      0.2239   7  \\n2133      0.0000   3  \\n8485      0.1045  25  \\n...          ...  ..  \\n11284     0.0896  20  \\n11964     0.1343  18  \\n5390      0.2836  17  \\n860       0.4179   8  \\n15795     0.1642  25  \\n\\n[13903 rows x 12 columns]' with schema '['season': long (required), 'yr': long (required), 'mnth': long (required), 'hr': long (required), 'weekday': long (required), 'workingday': long (required), 'weathersit': long (required), 'temp': double (required), 'atemp': double (required), 'hum': double (required), 'windspeed': double (required), 'day': long (required)]'. Error: Incompatible input types for column season. Can not safely convert category to int64.\"). To see the full traceback, set the logging level to DEBUG via `logging.getLogger(\"mlflow\").setLevel(logging.DEBUG)`. To disable automatic signature inference, set `signature` to `False` in your `log_model` or `save_model` call.\n",
      "Registered model 'tracking_regression' already exists. Creating a new version of this model...\n",
      "2024/08/27 11:29:07 INFO mlflow.store.model_registry.abstract_store: Waiting up to 300 seconds for model version to finish creation. Model name: tracking_regression, version 2\n",
      "Created version '2' of model 'tracking_regression'.\n"
     ]
    },
    {
     "data": {
      "application/vnd.jupyter.widget-view+json": {
       "model_id": "a462323e62fe46de9b59617fe9ca1f0a",
       "version_major": 2,
       "version_minor": 0
      },
      "text/plain": [
       "Downloading artifacts:   0%|          | 0/7 [00:00<?, ?it/s]"
      ]
     },
     "metadata": {},
     "output_type": "display_data"
    },
    {
     "name": "stderr",
     "output_type": "stream",
     "text": [
      "2024/08/27 11:29:09 INFO mlflow.tracking._tracking_service.client: 🏃 View run grandiose-goose-115 at: http://127.0.0.1:8080/#/experiments/634179549177378349/runs/cc40f321e3844bd5939139048f0e79ec.\n",
      "2024/08/27 11:29:09 INFO mlflow.tracking._tracking_service.client: 🧪 View experiment at: http://127.0.0.1:8080/#/experiments/634179549177378349.\n"
     ]
    }
   ],
   "source": [
    "param_grid = {\n",
    "    'select__k' : [45,50,60]\n",
    "}\n",
    "final_pipe_oh = pipe(encoder_tag = 'onehot',encoder = OneHotEncoder( drop='first'))\n",
    "\n",
    "grid_search_oh = GridSearchCV(final_pipe_oh, param_grid, cv=3, scoring='neg_mean_squared_error')\n",
    "grid_search_oh.fit(X_train, y_train)\n",
    "y_pred = grid_search_on.predict(X_test)\n",
    "r2 = r2_score(y_test, y_pred)\n",
    "mse = mean_squared_error(y_test, y_pred)\n",
    "\n",
    "\n",
    "print(\"for one hot encoder\")\n",
    "print(f\"Best Parameters: {grid_search_oh.best_params_}\")\n",
    "print(f\"Mean Squared Error: {mse}\")\n",
    "print(f\"R-squared: {r2}\")\n",
    "\n",
    "mlfw(X_train ,\"onehot encoder\",grid_search_oh,r2,mse)\n"
   ]
  },
  {
   "cell_type": "code",
   "execution_count": 200,
   "id": "b43d795b",
   "metadata": {},
   "outputs": [],
   "source": [
    "\n"
   ]
  },
  {
   "cell_type": "code",
   "execution_count": null,
   "id": "095e43f4",
   "metadata": {},
   "outputs": [],
   "source": []
  }
 ],
 "metadata": {
  "kernelspec": {
   "display_name": "Python 3 (ipykernel)",
   "language": "python",
   "name": "python3"
  },
  "language_info": {
   "codemirror_mode": {
    "name": "ipython",
    "version": 3
   },
   "file_extension": ".py",
   "mimetype": "text/x-python",
   "name": "python",
   "nbconvert_exporter": "python",
   "pygments_lexer": "ipython3",
   "version": "3.9.12"
  }
 },
 "nbformat": 4,
 "nbformat_minor": 5
}
